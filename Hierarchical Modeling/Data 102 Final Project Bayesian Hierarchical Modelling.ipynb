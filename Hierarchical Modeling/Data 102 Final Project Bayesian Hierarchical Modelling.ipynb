{
 "cells": [
  {
   "cell_type": "markdown",
   "metadata": {},
   "source": [
    "# Bayesian Hierarchical Modeling"
   ]
  },
  {
   "cell_type": "markdown",
   "metadata": {},
   "source": [
    "#### Collaborators and Student IDs\n",
    "Alan Jian 3033730509\n",
    "\n",
    "Shreya Chowdhury 3033623454\n",
    "\n",
    "Matilda Ju 3033728143\n",
    "\n",
    "Yannie Li 3034042574"
   ]
  },
  {
   "cell_type": "code",
   "execution_count": 169,
   "metadata": {},
   "outputs": [],
   "source": [
    "import numpy as np\n",
    "import pandas as pd\n",
    "import matplotlib.pyplot as plt\n",
    "import seaborn as sns\n",
    "import pymc3 as pm"
   ]
  },
  {
   "cell_type": "code",
   "execution_count": 170,
   "metadata": {},
   "outputs": [
    {
     "name": "stderr",
     "output_type": "stream",
     "text": [
      "/var/folders/r2/k7ydhtv97nvfmfl71y382zy40000gn/T/ipykernel_9941/1311453619.py:3: FutureWarning: In v4.0, pm.sample will return an `arviz.InferenceData` object instead of a `MultiTrace` by default. You can pass return_inferencedata=True or return_inferencedata=False to be safe and silence this warning.\n",
      "  pm.sample(1)\n",
      "Only 1 samples in chain.\n",
      "Auto-assigning NUTS sampler...\n",
      "Initializing NUTS using jitter+adapt_diag...\n",
      "Multiprocess sampling (4 chains in 4 jobs)\n",
      "NUTS: [dummy]\n"
     ]
    },
    {
     "data": {
      "text/html": [
       "\n",
       "    <div>\n",
       "        <style>\n",
       "            /* Turns off some styling */\n",
       "            progress {\n",
       "                /* gets rid of default border in Firefox and Opera. */\n",
       "                border: none;\n",
       "                /* Needs to be in here for Safari polyfill so background images work as expected. */\n",
       "                background-size: auto;\n",
       "            }\n",
       "            .progress-bar-interrupted, .progress-bar-interrupted::-webkit-progress-bar {\n",
       "                background: #F44336;\n",
       "            }\n",
       "        </style>\n",
       "      <progress value='4004' class='' max='4004' style='width:300px; height:20px; vertical-align: middle;'></progress>\n",
       "      100.00% [4004/4004 00:01<00:00 Sampling 4 chains, 0 divergences]\n",
       "    </div>\n",
       "    "
      ],
      "text/plain": [
       "<IPython.core.display.HTML object>"
      ]
     },
     "metadata": {},
     "output_type": "display_data"
    },
    {
     "name": "stderr",
     "output_type": "stream",
     "text": [
      "Sampling 4 chains for 1_000 tune and 1 draw iterations (4_000 + 4 draws total) took 16 seconds.\n",
      "/Users/alanjian/opt/anaconda3/envs/pymc3_env/lib/python3.9/site-packages/arviz/data/base.py:216: UserWarning: More chains (4) than draws (1). Passed array should have shape (chains, draws, *shape)\n",
      "  warnings.warn(\n",
      "/Users/alanjian/opt/anaconda3/envs/pymc3_env/lib/python3.9/site-packages/pymc3/sampling.py:643: UserWarning: The number of samples is too small to check convergence reliably.\n",
      "  warnings.warn(\"The number of samples is too small to check convergence reliably.\")\n"
     ]
    }
   ],
   "source": [
    "with pm.Model() as model:\n",
    "    dummy = pm.Beta('dummy', alpha=1, beta=1)\n",
    "    pm.sample(1)"
   ]
  },
  {
   "cell_type": "markdown",
   "metadata": {},
   "source": [
    "# Data Cleaning\n",
    "\n",
    "Here, we take a bunch of steps to clean up our data and make it suitable for future work. Here are a series of steps that we took:"
   ]
  },
  {
   "cell_type": "markdown",
   "metadata": {},
   "source": [
    "## Importing Data\n",
    "We started by importing the data."
   ]
  },
  {
   "cell_type": "markdown",
   "metadata": {},
   "source": [
    "In our study we are interested in the following highly polarized issues. To find these, we highlighted differences in the republican and democratic platforms (links below):\n",
    "\n",
    "https://democrats.org/where-we-stand/party-platform/\n",
    "\n",
    "https://prod-cdn-static.gop.com/media/documents/DRAFT_12_FINAL%5B1%5D-ben_1468872234.pdf\n",
    "\n",
    "https://www2.deloitte.com/us/en/pages/public-sector/articles/top-national-issues.html\n",
    "\n",
    "**Abortion** (ABANY): Please tell me whether or not you think it should be possible for a pregnant woman to obtain a legal abortion if the woman wants it for any reason?\n",
    "\n",
    "**Gun Regulation** (GUNLAW): Would you favor or oppose a law which would require a person to obtain a police permit before he or she could buy a gun?\n",
    "\n",
    "**Homosexuality** (HOMOSEX): What about sexual relations between two adults of the same sex--do you think it is always wrong, almost always wrong, wrong only sometimes, or not wrong at all?\n",
    "\n",
    "**Existence of Racial Discrimination** (RACDIF1): On the average (Negroes/Blacks/African-Americans) have worse jobs, income, and housing than white people.\n",
    "Do you think these differences are mainly due to discrimination?\n",
    "\n",
    "**Investment in Environmental Protection** (NATENVIR): We are faced with many problems in this country, none of which can be solved easily or inexpensively. I'm going to name some of these problems, and for each one I'd like you to name some of these problems, and for each one I'd like you to tell me whether you think we're spending too much money on it, too little money, or about the right amount. Are we spending too much, too little, or about the right amount on improving and protecting the environment?\n",
    "\n",
    "**Investment in National Defense** (NATARMS): We are faced with many problems in this country, none of which can be solved easily or inexpensively. I'm going to name some of these problems, and for each one I'd like you to tell me whether you think we're spending too much money on it, too little money, or about the right amount. Are we spending too much, too little, or about the right amount on national defense?\n",
    "\n",
    "**Investment in Welfare** (NATFARE): We are faced with many problems in this country, none of which can be solved easily or inexpensively. I'm going to name some of these problems, and for each one I'd like you to name some of these problems, and for each one I'd like you to tell me whether you think we're spending too much money on it, too little money, or about the right amount. Are we spending too much, too little, or about the right amount on Welfare?\n",
    "\n",
    "**Investment in Social Security** (NATSOC): We are faced with many problems in this country, none of which can be solved easily or inexpensively. I'm going to name some of these problems, and for each one I'd like you to name some of these problems, and for each one I'd like you to tell me whether you think we're spending too much money on it, too little money, or about the right amount. Are we spending too much, too little, or about the right amount on Social Security"
   ]
  },
  {
   "cell_type": "code",
   "execution_count": 522,
   "metadata": {},
   "outputs": [],
   "source": [
    "labels = ['YEAR', 'POLVIEWS', 'ABANY', 'GUNLAW', 'HOMOSEX', 'RACDIF1', 'NATENVIR', 'NATARMS', 'NATFARE', 'NATSOC']"
   ]
  },
  {
   "cell_type": "code",
   "execution_count": 523,
   "metadata": {},
   "outputs": [],
   "source": [
    "origlocation = \"./GSS/GSS7218_R3\"\n",
    "alanLoc = \"~/Downloads/GSS_spss/GSS7218_R3.sav\"\n",
    "\n",
    "pol = pd.read_spss(alanLoc, usecols=labels, \n",
    "                     convert_categoricals=True)"
   ]
  },
  {
   "cell_type": "markdown",
   "metadata": {},
   "source": [
    "## Initial Transformations\n",
    "\n",
    "Additionally, we make some further modifications, chopping off any data prior to 2000s (because we're interested in the period between 2000-2018)."
   ]
  },
  {
   "cell_type": "code",
   "execution_count": 524,
   "metadata": {},
   "outputs": [
    {
     "data": {
      "text/html": [
       "<div>\n",
       "<style scoped>\n",
       "    .dataframe tbody tr th:only-of-type {\n",
       "        vertical-align: middle;\n",
       "    }\n",
       "\n",
       "    .dataframe tbody tr th {\n",
       "        vertical-align: top;\n",
       "    }\n",
       "\n",
       "    .dataframe thead th {\n",
       "        text-align: right;\n",
       "    }\n",
       "</style>\n",
       "<table border=\"1\" class=\"dataframe\">\n",
       "  <thead>\n",
       "    <tr style=\"text-align: right;\">\n",
       "      <th></th>\n",
       "      <th>YEAR</th>\n",
       "      <th>POLVIEWS</th>\n",
       "      <th>NATENVIR</th>\n",
       "      <th>NATARMS</th>\n",
       "      <th>NATFARE</th>\n",
       "      <th>NATSOC</th>\n",
       "      <th>GUNLAW</th>\n",
       "      <th>ABANY</th>\n",
       "      <th>HOMOSEX</th>\n",
       "      <th>RACDIF1</th>\n",
       "    </tr>\n",
       "  </thead>\n",
       "  <tbody>\n",
       "    <tr>\n",
       "      <th>38116</th>\n",
       "      <td>2000.0</td>\n",
       "      <td>SLGHTLY CONSERVATIVE</td>\n",
       "      <td>TOO LITTLE</td>\n",
       "      <td>TOO MUCH</td>\n",
       "      <td>TOO MUCH</td>\n",
       "      <td>TOO LITTLE</td>\n",
       "      <td>OPPOSE</td>\n",
       "      <td>NO</td>\n",
       "      <td>NOT WRONG AT ALL</td>\n",
       "      <td>NO</td>\n",
       "    </tr>\n",
       "    <tr>\n",
       "      <th>38117</th>\n",
       "      <td>2000.0</td>\n",
       "      <td>CONSERVATIVE</td>\n",
       "      <td>NaN</td>\n",
       "      <td>NaN</td>\n",
       "      <td>NaN</td>\n",
       "      <td>TOO LITTLE</td>\n",
       "      <td>FAVOR</td>\n",
       "      <td>NO</td>\n",
       "      <td>NaN</td>\n",
       "      <td>NaN</td>\n",
       "    </tr>\n",
       "    <tr>\n",
       "      <th>38118</th>\n",
       "      <td>2000.0</td>\n",
       "      <td>CONSERVATIVE</td>\n",
       "      <td>TOO LITTLE</td>\n",
       "      <td>TOO LITTLE</td>\n",
       "      <td>ABOUT RIGHT</td>\n",
       "      <td>ABOUT RIGHT</td>\n",
       "      <td>NaN</td>\n",
       "      <td>NaN</td>\n",
       "      <td>NaN</td>\n",
       "      <td>NO</td>\n",
       "    </tr>\n",
       "    <tr>\n",
       "      <th>38119</th>\n",
       "      <td>2000.0</td>\n",
       "      <td>SLGHTLY CONSERVATIVE</td>\n",
       "      <td>TOO LITTLE</td>\n",
       "      <td>TOO MUCH</td>\n",
       "      <td>TOO MUCH</td>\n",
       "      <td>TOO LITTLE</td>\n",
       "      <td>NaN</td>\n",
       "      <td>NaN</td>\n",
       "      <td>NaN</td>\n",
       "      <td>NO</td>\n",
       "    </tr>\n",
       "    <tr>\n",
       "      <th>38120</th>\n",
       "      <td>2000.0</td>\n",
       "      <td>SLIGHTLY LIBERAL</td>\n",
       "      <td>NaN</td>\n",
       "      <td>NaN</td>\n",
       "      <td>NaN</td>\n",
       "      <td>ABOUT RIGHT</td>\n",
       "      <td>NaN</td>\n",
       "      <td>NaN</td>\n",
       "      <td>NaN</td>\n",
       "      <td>NO</td>\n",
       "    </tr>\n",
       "    <tr>\n",
       "      <th>...</th>\n",
       "      <td>...</td>\n",
       "      <td>...</td>\n",
       "      <td>...</td>\n",
       "      <td>...</td>\n",
       "      <td>...</td>\n",
       "      <td>...</td>\n",
       "      <td>...</td>\n",
       "      <td>...</td>\n",
       "      <td>...</td>\n",
       "      <td>...</td>\n",
       "    </tr>\n",
       "    <tr>\n",
       "      <th>64809</th>\n",
       "      <td>2018.0</td>\n",
       "      <td>MODERATE</td>\n",
       "      <td>TOO LITTLE</td>\n",
       "      <td>ABOUT RIGHT</td>\n",
       "      <td>TOO LITTLE</td>\n",
       "      <td>ABOUT RIGHT</td>\n",
       "      <td>OPPOSE</td>\n",
       "      <td>YES</td>\n",
       "      <td>NOT WRONG AT ALL</td>\n",
       "      <td>YES</td>\n",
       "    </tr>\n",
       "    <tr>\n",
       "      <th>64810</th>\n",
       "      <td>2018.0</td>\n",
       "      <td>SLGHTLY CONSERVATIVE</td>\n",
       "      <td>ABOUT RIGHT</td>\n",
       "      <td>ABOUT RIGHT</td>\n",
       "      <td>ABOUT RIGHT</td>\n",
       "      <td>TOO LITTLE</td>\n",
       "      <td>OPPOSE</td>\n",
       "      <td>NO</td>\n",
       "      <td>NaN</td>\n",
       "      <td>NO</td>\n",
       "    </tr>\n",
       "    <tr>\n",
       "      <th>64811</th>\n",
       "      <td>2018.0</td>\n",
       "      <td>MODERATE</td>\n",
       "      <td>NaN</td>\n",
       "      <td>NaN</td>\n",
       "      <td>NaN</td>\n",
       "      <td>ABOUT RIGHT</td>\n",
       "      <td>FAVOR</td>\n",
       "      <td>NO</td>\n",
       "      <td>NOT WRONG AT ALL</td>\n",
       "      <td>NaN</td>\n",
       "    </tr>\n",
       "    <tr>\n",
       "      <th>64812</th>\n",
       "      <td>2018.0</td>\n",
       "      <td>CONSERVATIVE</td>\n",
       "      <td>ABOUT RIGHT</td>\n",
       "      <td>TOO LITTLE</td>\n",
       "      <td>TOO MUCH</td>\n",
       "      <td>TOO LITTLE</td>\n",
       "      <td>NaN</td>\n",
       "      <td>NaN</td>\n",
       "      <td>NaN</td>\n",
       "      <td>NO</td>\n",
       "    </tr>\n",
       "    <tr>\n",
       "      <th>64813</th>\n",
       "      <td>2018.0</td>\n",
       "      <td>NaN</td>\n",
       "      <td>NaN</td>\n",
       "      <td>NaN</td>\n",
       "      <td>NaN</td>\n",
       "      <td>TOO LITTLE</td>\n",
       "      <td>FAVOR</td>\n",
       "      <td>NO</td>\n",
       "      <td>NaN</td>\n",
       "      <td>NaN</td>\n",
       "    </tr>\n",
       "  </tbody>\n",
       "</table>\n",
       "<p>26698 rows × 10 columns</p>\n",
       "</div>"
      ],
      "text/plain": [
       "         YEAR              POLVIEWS     NATENVIR      NATARMS      NATFARE  \\\n",
       "38116  2000.0  SLGHTLY CONSERVATIVE   TOO LITTLE     TOO MUCH     TOO MUCH   \n",
       "38117  2000.0          CONSERVATIVE          NaN          NaN          NaN   \n",
       "38118  2000.0          CONSERVATIVE   TOO LITTLE   TOO LITTLE  ABOUT RIGHT   \n",
       "38119  2000.0  SLGHTLY CONSERVATIVE   TOO LITTLE     TOO MUCH     TOO MUCH   \n",
       "38120  2000.0      SLIGHTLY LIBERAL          NaN          NaN          NaN   \n",
       "...       ...                   ...          ...          ...          ...   \n",
       "64809  2018.0              MODERATE   TOO LITTLE  ABOUT RIGHT   TOO LITTLE   \n",
       "64810  2018.0  SLGHTLY CONSERVATIVE  ABOUT RIGHT  ABOUT RIGHT  ABOUT RIGHT   \n",
       "64811  2018.0              MODERATE          NaN          NaN          NaN   \n",
       "64812  2018.0          CONSERVATIVE  ABOUT RIGHT   TOO LITTLE     TOO MUCH   \n",
       "64813  2018.0                   NaN          NaN          NaN          NaN   \n",
       "\n",
       "            NATSOC  GUNLAW ABANY           HOMOSEX RACDIF1  \n",
       "38116   TOO LITTLE  OPPOSE    NO  NOT WRONG AT ALL      NO  \n",
       "38117   TOO LITTLE   FAVOR    NO               NaN     NaN  \n",
       "38118  ABOUT RIGHT     NaN   NaN               NaN      NO  \n",
       "38119   TOO LITTLE     NaN   NaN               NaN      NO  \n",
       "38120  ABOUT RIGHT     NaN   NaN               NaN      NO  \n",
       "...            ...     ...   ...               ...     ...  \n",
       "64809  ABOUT RIGHT  OPPOSE   YES  NOT WRONG AT ALL     YES  \n",
       "64810   TOO LITTLE  OPPOSE    NO               NaN      NO  \n",
       "64811  ABOUT RIGHT   FAVOR    NO  NOT WRONG AT ALL     NaN  \n",
       "64812   TOO LITTLE     NaN   NaN               NaN      NO  \n",
       "64813   TOO LITTLE   FAVOR    NO               NaN     NaN  \n",
       "\n",
       "[26698 rows x 10 columns]"
      ]
     },
     "execution_count": 524,
     "metadata": {},
     "output_type": "execute_result"
    }
   ],
   "source": [
    "pol = pol[pol['YEAR'] >= 2000]\n",
    "pol"
   ]
  },
  {
   "cell_type": "markdown",
   "metadata": {},
   "source": [
    "Since we're most interested in political viewpoint, and it was asked of everyone, we will remove individuals who did not respond, since updates that correspond with those data are not informative."
   ]
  },
  {
   "cell_type": "code",
   "execution_count": 525,
   "metadata": {},
   "outputs": [
    {
     "data": {
      "text/html": [
       "<div>\n",
       "<style scoped>\n",
       "    .dataframe tbody tr th:only-of-type {\n",
       "        vertical-align: middle;\n",
       "    }\n",
       "\n",
       "    .dataframe tbody tr th {\n",
       "        vertical-align: top;\n",
       "    }\n",
       "\n",
       "    .dataframe thead th {\n",
       "        text-align: right;\n",
       "    }\n",
       "</style>\n",
       "<table border=\"1\" class=\"dataframe\">\n",
       "  <thead>\n",
       "    <tr style=\"text-align: right;\">\n",
       "      <th></th>\n",
       "      <th>YEAR</th>\n",
       "      <th>POLVIEWS</th>\n",
       "      <th>NATENVIR</th>\n",
       "      <th>NATARMS</th>\n",
       "      <th>NATFARE</th>\n",
       "      <th>NATSOC</th>\n",
       "      <th>GUNLAW</th>\n",
       "      <th>ABANY</th>\n",
       "      <th>HOMOSEX</th>\n",
       "      <th>RACDIF1</th>\n",
       "    </tr>\n",
       "  </thead>\n",
       "  <tbody>\n",
       "    <tr>\n",
       "      <th>38116</th>\n",
       "      <td>2000.0</td>\n",
       "      <td>SLGHTLY CONSERVATIVE</td>\n",
       "      <td>TOO LITTLE</td>\n",
       "      <td>TOO MUCH</td>\n",
       "      <td>TOO MUCH</td>\n",
       "      <td>TOO LITTLE</td>\n",
       "      <td>OPPOSE</td>\n",
       "      <td>NO</td>\n",
       "      <td>NOT WRONG AT ALL</td>\n",
       "      <td>NO</td>\n",
       "    </tr>\n",
       "    <tr>\n",
       "      <th>38117</th>\n",
       "      <td>2000.0</td>\n",
       "      <td>CONSERVATIVE</td>\n",
       "      <td>NaN</td>\n",
       "      <td>NaN</td>\n",
       "      <td>NaN</td>\n",
       "      <td>TOO LITTLE</td>\n",
       "      <td>FAVOR</td>\n",
       "      <td>NO</td>\n",
       "      <td>NaN</td>\n",
       "      <td>NaN</td>\n",
       "    </tr>\n",
       "    <tr>\n",
       "      <th>38118</th>\n",
       "      <td>2000.0</td>\n",
       "      <td>CONSERVATIVE</td>\n",
       "      <td>TOO LITTLE</td>\n",
       "      <td>TOO LITTLE</td>\n",
       "      <td>ABOUT RIGHT</td>\n",
       "      <td>ABOUT RIGHT</td>\n",
       "      <td>NaN</td>\n",
       "      <td>NaN</td>\n",
       "      <td>NaN</td>\n",
       "      <td>NO</td>\n",
       "    </tr>\n",
       "    <tr>\n",
       "      <th>38119</th>\n",
       "      <td>2000.0</td>\n",
       "      <td>SLGHTLY CONSERVATIVE</td>\n",
       "      <td>TOO LITTLE</td>\n",
       "      <td>TOO MUCH</td>\n",
       "      <td>TOO MUCH</td>\n",
       "      <td>TOO LITTLE</td>\n",
       "      <td>NaN</td>\n",
       "      <td>NaN</td>\n",
       "      <td>NaN</td>\n",
       "      <td>NO</td>\n",
       "    </tr>\n",
       "    <tr>\n",
       "      <th>38120</th>\n",
       "      <td>2000.0</td>\n",
       "      <td>SLIGHTLY LIBERAL</td>\n",
       "      <td>NaN</td>\n",
       "      <td>NaN</td>\n",
       "      <td>NaN</td>\n",
       "      <td>ABOUT RIGHT</td>\n",
       "      <td>NaN</td>\n",
       "      <td>NaN</td>\n",
       "      <td>NaN</td>\n",
       "      <td>NO</td>\n",
       "    </tr>\n",
       "    <tr>\n",
       "      <th>...</th>\n",
       "      <td>...</td>\n",
       "      <td>...</td>\n",
       "      <td>...</td>\n",
       "      <td>...</td>\n",
       "      <td>...</td>\n",
       "      <td>...</td>\n",
       "      <td>...</td>\n",
       "      <td>...</td>\n",
       "      <td>...</td>\n",
       "      <td>...</td>\n",
       "    </tr>\n",
       "    <tr>\n",
       "      <th>64808</th>\n",
       "      <td>2018.0</td>\n",
       "      <td>MODERATE</td>\n",
       "      <td>ABOUT RIGHT</td>\n",
       "      <td>ABOUT RIGHT</td>\n",
       "      <td>TOO MUCH</td>\n",
       "      <td>TOO LITTLE</td>\n",
       "      <td>FAVOR</td>\n",
       "      <td>NO</td>\n",
       "      <td>SOMETIMES WRONG</td>\n",
       "      <td>NaN</td>\n",
       "    </tr>\n",
       "    <tr>\n",
       "      <th>64809</th>\n",
       "      <td>2018.0</td>\n",
       "      <td>MODERATE</td>\n",
       "      <td>TOO LITTLE</td>\n",
       "      <td>ABOUT RIGHT</td>\n",
       "      <td>TOO LITTLE</td>\n",
       "      <td>ABOUT RIGHT</td>\n",
       "      <td>OPPOSE</td>\n",
       "      <td>YES</td>\n",
       "      <td>NOT WRONG AT ALL</td>\n",
       "      <td>YES</td>\n",
       "    </tr>\n",
       "    <tr>\n",
       "      <th>64810</th>\n",
       "      <td>2018.0</td>\n",
       "      <td>SLGHTLY CONSERVATIVE</td>\n",
       "      <td>ABOUT RIGHT</td>\n",
       "      <td>ABOUT RIGHT</td>\n",
       "      <td>ABOUT RIGHT</td>\n",
       "      <td>TOO LITTLE</td>\n",
       "      <td>OPPOSE</td>\n",
       "      <td>NO</td>\n",
       "      <td>NaN</td>\n",
       "      <td>NO</td>\n",
       "    </tr>\n",
       "    <tr>\n",
       "      <th>64811</th>\n",
       "      <td>2018.0</td>\n",
       "      <td>MODERATE</td>\n",
       "      <td>NaN</td>\n",
       "      <td>NaN</td>\n",
       "      <td>NaN</td>\n",
       "      <td>ABOUT RIGHT</td>\n",
       "      <td>FAVOR</td>\n",
       "      <td>NO</td>\n",
       "      <td>NOT WRONG AT ALL</td>\n",
       "      <td>NaN</td>\n",
       "    </tr>\n",
       "    <tr>\n",
       "      <th>64812</th>\n",
       "      <td>2018.0</td>\n",
       "      <td>CONSERVATIVE</td>\n",
       "      <td>ABOUT RIGHT</td>\n",
       "      <td>TOO LITTLE</td>\n",
       "      <td>TOO MUCH</td>\n",
       "      <td>TOO LITTLE</td>\n",
       "      <td>NaN</td>\n",
       "      <td>NaN</td>\n",
       "      <td>NaN</td>\n",
       "      <td>NO</td>\n",
       "    </tr>\n",
       "  </tbody>\n",
       "</table>\n",
       "<p>22849 rows × 10 columns</p>\n",
       "</div>"
      ],
      "text/plain": [
       "         YEAR              POLVIEWS     NATENVIR      NATARMS      NATFARE  \\\n",
       "38116  2000.0  SLGHTLY CONSERVATIVE   TOO LITTLE     TOO MUCH     TOO MUCH   \n",
       "38117  2000.0          CONSERVATIVE          NaN          NaN          NaN   \n",
       "38118  2000.0          CONSERVATIVE   TOO LITTLE   TOO LITTLE  ABOUT RIGHT   \n",
       "38119  2000.0  SLGHTLY CONSERVATIVE   TOO LITTLE     TOO MUCH     TOO MUCH   \n",
       "38120  2000.0      SLIGHTLY LIBERAL          NaN          NaN          NaN   \n",
       "...       ...                   ...          ...          ...          ...   \n",
       "64808  2018.0              MODERATE  ABOUT RIGHT  ABOUT RIGHT     TOO MUCH   \n",
       "64809  2018.0              MODERATE   TOO LITTLE  ABOUT RIGHT   TOO LITTLE   \n",
       "64810  2018.0  SLGHTLY CONSERVATIVE  ABOUT RIGHT  ABOUT RIGHT  ABOUT RIGHT   \n",
       "64811  2018.0              MODERATE          NaN          NaN          NaN   \n",
       "64812  2018.0          CONSERVATIVE  ABOUT RIGHT   TOO LITTLE     TOO MUCH   \n",
       "\n",
       "            NATSOC  GUNLAW ABANY           HOMOSEX RACDIF1  \n",
       "38116   TOO LITTLE  OPPOSE    NO  NOT WRONG AT ALL      NO  \n",
       "38117   TOO LITTLE   FAVOR    NO               NaN     NaN  \n",
       "38118  ABOUT RIGHT     NaN   NaN               NaN      NO  \n",
       "38119   TOO LITTLE     NaN   NaN               NaN      NO  \n",
       "38120  ABOUT RIGHT     NaN   NaN               NaN      NO  \n",
       "...            ...     ...   ...               ...     ...  \n",
       "64808   TOO LITTLE   FAVOR    NO   SOMETIMES WRONG     NaN  \n",
       "64809  ABOUT RIGHT  OPPOSE   YES  NOT WRONG AT ALL     YES  \n",
       "64810   TOO LITTLE  OPPOSE    NO               NaN      NO  \n",
       "64811  ABOUT RIGHT   FAVOR    NO  NOT WRONG AT ALL     NaN  \n",
       "64812   TOO LITTLE     NaN   NaN               NaN      NO  \n",
       "\n",
       "[22849 rows x 10 columns]"
      ]
     },
     "execution_count": 525,
     "metadata": {},
     "output_type": "execute_result"
    }
   ],
   "source": [
    "pol = pol[~pol['POLVIEWS'].isna()]\n",
    "pol"
   ]
  },
  {
   "cell_type": "code",
   "execution_count": 526,
   "metadata": {},
   "outputs": [
    {
     "data": {
      "text/plain": [
       "[2000.0,\n",
       " 2002.0,\n",
       " 2004.0,\n",
       " 2006.0,\n",
       " 2008.0,\n",
       " 2010.0,\n",
       " 2012.0,\n",
       " 2014.0,\n",
       " 2016.0,\n",
       " 2018.0]"
      ]
     },
     "execution_count": 526,
     "metadata": {},
     "output_type": "execute_result"
    }
   ],
   "source": [
    "# sanity check to make sure we're including all the right years.\n",
    "sorted(causal['YEAR'].value_counts().index)"
   ]
  },
  {
   "cell_type": "markdown",
   "metadata": {},
   "source": [
    "When comparing the data from the GSS data explorer and our extracted data, it looks like NaN values are comprised of three different types of users:\n",
    "1. **Declined to Respond**: They did not respond to the prompt\n",
    "2. **Don't Know**: They did not know enough about the subject to respond\n",
    "3. **Not Applicable:** They were not asked the prompt"
   ]
  },
  {
   "cell_type": "code",
   "execution_count": 527,
   "metadata": {},
   "outputs": [
    {
     "data": {
      "text/plain": [
       "POLVIEWS\n",
       "False    22849\n",
       "dtype: int64"
      ]
     },
     "execution_count": 527,
     "metadata": {},
     "output_type": "execute_result"
    }
   ],
   "source": [
    "pol[['POLVIEWS']].isna().groupby('POLVIEWS').size()"
   ]
  },
  {
   "cell_type": "markdown",
   "metadata": {},
   "source": [
    "An overwhelming majority of these NaNs are comprised of those who were never asked the question (>95%), so we can safely assume that they are missing completely at random (MCAR)."
   ]
  },
  {
   "cell_type": "markdown",
   "metadata": {},
   "source": [
    "We can also see that, with a total size of 27000 respondents, a majority of these questions were only asked to roughly half of the individuals in the study, with the exception of self-reported political leaning, and opinion of investment in social security."
   ]
  },
  {
   "cell_type": "code",
   "execution_count": 528,
   "metadata": {},
   "outputs": [
    {
     "data": {
      "image/png": "[encoded data removed]",
      "text/plain": [
       "<Figure size 432x288 with 1 Axes>"
      ]
     },
     "metadata": {
      "needs_background": "light"
     },
     "output_type": "display_data"
    }
   ],
   "source": [
    "num_responses = np.sum(~pol.isna(), axis=0)\n",
    "plt.bar(num_responses.index, num_responses)\n",
    "plt.xticks(rotation=45);"
   ]
  },
  {
   "cell_type": "markdown",
   "metadata": {},
   "source": [
    "# Binarizing Variables\n",
    "In order for our study to match the design of our bayesian hierarchical model, we will have to binarize all of the questions that feature multiple values.\n",
    "\n",
    "As a result, these variables and their interpretation will be changed in the following way:\n",
    "1. **Homosexuality** (HOMOSEX): What about sexual relations between two adults of the same sex--do you think it is wrong at all?\n",
    "2. **Gender Discrimination in the Workplace** (DISCAFF): Do you think that it's likely these days that a woman won't get a job or promotion while an equally or less qualified man gets one instead?\n",
    "4. **Investment in Environmental Protection** (NATENVIR): Do we need to spend more on protecting the environment?\n",
    "5. **Investment in National Defense** (NATARMS): Do we need to spend more on national defense?\n",
    "6. **Investment in Welfare** (NATFARE): Do we need to spend more on welfare?\n",
    "7. **Investment in Social Security** (NATSOC): Do we need to spend more on social security?\n",
    "\n",
    "Additionally, since PyMC3 works with numerical values, we'll also have to binarize:\n",
    "1. **Abortion** (ABANY)\n",
    "2. **Existence of Racial Discrimination** (RACDIF1)\n",
    "3. **Gun Regulation** (GUNLAW)"
   ]
  },
  {
   "cell_type": "code",
   "execution_count": 529,
   "metadata": {},
   "outputs": [],
   "source": [
    "binarized = pol.copy()"
   ]
  },
  {
   "cell_type": "markdown",
   "metadata": {},
   "source": [
    "### Homosexuality"
   ]
  },
  {
   "cell_type": "code",
   "execution_count": 530,
   "metadata": {},
   "outputs": [
    {
     "data": {
      "text/plain": [
       "ALWAYS WRONG        6354\n",
       "NOT WRONG AT ALL    5673\n",
       "SOMETIMES WRONG      949\n",
       "ALMST ALWAYS WRG     546\n",
       "OTHER                  0\n",
       "Name: HOMOSEX, dtype: int64"
      ]
     },
     "execution_count": 530,
     "metadata": {},
     "output_type": "execute_result"
    }
   ],
   "source": [
    "pol['HOMOSEX'].value_counts()"
   ]
  },
  {
   "cell_type": "code",
   "execution_count": 531,
   "metadata": {},
   "outputs": [
    {
     "data": {
      "text/plain": [
       "Index(['HOMOSEX_ALMST ALWAYS WRG', 'HOMOSEX_ALWAYS WRONG',\n",
       "       'HOMOSEX_NOT WRONG AT ALL', 'HOMOSEX_OTHER', 'HOMOSEX_SOMETIMES WRONG'],\n",
       "      dtype='object')"
      ]
     },
     "execution_count": 531,
     "metadata": {},
     "output_type": "execute_result"
    }
   ],
   "source": [
    "pd.get_dummies(pol[['HOMOSEX']]).columns"
   ]
  },
  {
   "cell_type": "code",
   "execution_count": 532,
   "metadata": {},
   "outputs": [
    {
     "data": {
      "text/plain": [
       "38116    0.0\n",
       "38117    NaN\n",
       "38118    NaN\n",
       "38119    NaN\n",
       "38120    NaN\n",
       "        ... \n",
       "64808    1.0\n",
       "64809    0.0\n",
       "64810    NaN\n",
       "64811    0.0\n",
       "64812    NaN\n",
       "Length: 22849, dtype: float64"
      ]
     },
     "execution_count": 532,
     "metadata": {},
     "output_type": "execute_result"
    }
   ],
   "source": [
    "# Find individuals who think homosexuality is wrong\n",
    "homosex = pd.get_dummies(pol[['HOMOSEX']])[['HOMOSEX_ALMST ALWAYS WRG', \n",
    "                                           'HOMOSEX_ALWAYS WRONG', \n",
    "                                           'HOMOSEX_SOMETIMES WRONG']]\n",
    "homo_bool = np.sum(homosex, axis=1)\n",
    "\n",
    "#Re-identify those who did not answer the question\n",
    "homo_bool.iloc[pol['HOMOSEX'].isna().to_list()] = np.nan\n",
    "\n",
    "binarized['HOMOSEX'] = homo_bool\n",
    "homo_bool"
   ]
  },
  {
   "cell_type": "markdown",
   "metadata": {},
   "source": [
    "### Gender Discrimination in the Workplace"
   ]
  },
  {
   "cell_type": "code",
   "execution_count": 499,
   "metadata": {},
   "outputs": [
    {
     "data": {
      "text/plain": [
       "SOMEWHAT LIKELY      3298\n",
       "VERY LIKELY          1655\n",
       "SOMEWHAT UNLIKELY    1292\n",
       "VERY UNLIKELY         586\n",
       "Name: DISCAFFW, dtype: int64"
      ]
     },
     "execution_count": 499,
     "metadata": {},
     "output_type": "execute_result"
    }
   ],
   "source": [
    "\"\"\"# Find individuals who think gender discrimination is likely to occur even today\n",
    "pol['DISCAFFW'].value_counts()\"\"\""
   ]
  },
  {
   "cell_type": "code",
   "execution_count": 533,
   "metadata": {},
   "outputs": [
    {
     "data": {
      "text/plain": [
       "\"discaffw = pd.get_dummies(pol[['DISCAFFW']])[['DISCAFFW_SOMEWHAT LIKELY',\\n                                            'DISCAFFW_VERY LIKELY']]\\n\\ndiscaffw_bool = np.sum(discaffw, axis=1)\\n\\n#Re-identify those who did not answer the question\\ndiscaffw_bool.iloc[pol['DISCAFFW'].isna().to_list()] = np.nan\\n\\nbinarized['DISCAFFW'] = discaffw_bool\\ndiscaffw_bool\""
      ]
     },
     "execution_count": 533,
     "metadata": {},
     "output_type": "execute_result"
    }
   ],
   "source": [
    "\"\"\"discaffw = pd.get_dummies(pol[['DISCAFFW']])[['DISCAFFW_SOMEWHAT LIKELY',\n",
    "                                            'DISCAFFW_VERY LIKELY']]\n",
    "\n",
    "discaffw_bool = np.sum(discaffw, axis=1)\n",
    "\n",
    "#Re-identify those who did not answer the question\n",
    "discaffw_bool.iloc[pol['DISCAFFW'].isna().to_list()] = np.nan\n",
    "\n",
    "binarized['DISCAFFW'] = discaffw_bool\n",
    "discaffw_bool\"\"\""
   ]
  },
  {
   "cell_type": "markdown",
   "metadata": {},
   "source": [
    "### Investment in Environmental Protection"
   ]
  },
  {
   "cell_type": "code",
   "execution_count": 534,
   "metadata": {},
   "outputs": [
    {
     "data": {
      "text/plain": [
       "TOO LITTLE     6580\n",
       "ABOUT RIGHT    2975\n",
       "TOO MUCH        885\n",
       "Name: NATENVIR, dtype: int64"
      ]
     },
     "execution_count": 534,
     "metadata": {},
     "output_type": "execute_result"
    }
   ],
   "source": [
    "pol['NATENVIR'].value_counts()"
   ]
  },
  {
   "cell_type": "code",
   "execution_count": 535,
   "metadata": {},
   "outputs": [
    {
     "data": {
      "text/html": [
       "<div>\n",
       "<style scoped>\n",
       "    .dataframe tbody tr th:only-of-type {\n",
       "        vertical-align: middle;\n",
       "    }\n",
       "\n",
       "    .dataframe tbody tr th {\n",
       "        vertical-align: top;\n",
       "    }\n",
       "\n",
       "    .dataframe thead th {\n",
       "        text-align: right;\n",
       "    }\n",
       "</style>\n",
       "<table border=\"1\" class=\"dataframe\">\n",
       "  <thead>\n",
       "    <tr style=\"text-align: right;\">\n",
       "      <th></th>\n",
       "      <th>NATENVIR_TOO LITTLE</th>\n",
       "    </tr>\n",
       "  </thead>\n",
       "  <tbody>\n",
       "    <tr>\n",
       "      <th>38116</th>\n",
       "      <td>1.0</td>\n",
       "    </tr>\n",
       "    <tr>\n",
       "      <th>38117</th>\n",
       "      <td>NaN</td>\n",
       "    </tr>\n",
       "    <tr>\n",
       "      <th>38118</th>\n",
       "      <td>1.0</td>\n",
       "    </tr>\n",
       "    <tr>\n",
       "      <th>38119</th>\n",
       "      <td>1.0</td>\n",
       "    </tr>\n",
       "    <tr>\n",
       "      <th>38120</th>\n",
       "      <td>NaN</td>\n",
       "    </tr>\n",
       "    <tr>\n",
       "      <th>...</th>\n",
       "      <td>...</td>\n",
       "    </tr>\n",
       "    <tr>\n",
       "      <th>64808</th>\n",
       "      <td>0.0</td>\n",
       "    </tr>\n",
       "    <tr>\n",
       "      <th>64809</th>\n",
       "      <td>1.0</td>\n",
       "    </tr>\n",
       "    <tr>\n",
       "      <th>64810</th>\n",
       "      <td>0.0</td>\n",
       "    </tr>\n",
       "    <tr>\n",
       "      <th>64811</th>\n",
       "      <td>NaN</td>\n",
       "    </tr>\n",
       "    <tr>\n",
       "      <th>64812</th>\n",
       "      <td>0.0</td>\n",
       "    </tr>\n",
       "  </tbody>\n",
       "</table>\n",
       "<p>22849 rows × 1 columns</p>\n",
       "</div>"
      ],
      "text/plain": [
       "       NATENVIR_TOO LITTLE\n",
       "38116                  1.0\n",
       "38117                  NaN\n",
       "38118                  1.0\n",
       "38119                  1.0\n",
       "38120                  NaN\n",
       "...                    ...\n",
       "64808                  0.0\n",
       "64809                  1.0\n",
       "64810                  0.0\n",
       "64811                  NaN\n",
       "64812                  0.0\n",
       "\n",
       "[22849 rows x 1 columns]"
      ]
     },
     "execution_count": 535,
     "metadata": {},
     "output_type": "execute_result"
    }
   ],
   "source": [
    "# Find individuals who think we aren't spending enough on climate change and preserving environment\n",
    "natenvir_bool = pd.get_dummies(pol[['NATENVIR']])[['NATENVIR_TOO LITTLE']]\n",
    "\n",
    "#Re-identify those who did not answer the question\n",
    "natenvir_bool.iloc[pol['NATENVIR'].isna().to_list()] = np.nan\n",
    "\n",
    "binarized['NATENVIR'] = natenvir_bool\n",
    "natenvir_bool"
   ]
  },
  {
   "cell_type": "markdown",
   "metadata": {},
   "source": [
    "### Investment in National Defense"
   ]
  },
  {
   "cell_type": "code",
   "execution_count": 536,
   "metadata": {},
   "outputs": [
    {
     "data": {
      "text/plain": [
       "ABOUT RIGHT    3988\n",
       "TOO MUCH       3278\n",
       "TOO LITTLE     3107\n",
       "Name: NATARMS, dtype: int64"
      ]
     },
     "execution_count": 536,
     "metadata": {},
     "output_type": "execute_result"
    }
   ],
   "source": [
    "pol['NATARMS'].value_counts()"
   ]
  },
  {
   "cell_type": "code",
   "execution_count": 537,
   "metadata": {},
   "outputs": [
    {
     "data": {
      "text/html": [
       "<div>\n",
       "<style scoped>\n",
       "    .dataframe tbody tr th:only-of-type {\n",
       "        vertical-align: middle;\n",
       "    }\n",
       "\n",
       "    .dataframe tbody tr th {\n",
       "        vertical-align: top;\n",
       "    }\n",
       "\n",
       "    .dataframe thead th {\n",
       "        text-align: right;\n",
       "    }\n",
       "</style>\n",
       "<table border=\"1\" class=\"dataframe\">\n",
       "  <thead>\n",
       "    <tr style=\"text-align: right;\">\n",
       "      <th></th>\n",
       "      <th>NATARMS_TOO LITTLE</th>\n",
       "    </tr>\n",
       "  </thead>\n",
       "  <tbody>\n",
       "    <tr>\n",
       "      <th>38116</th>\n",
       "      <td>0.0</td>\n",
       "    </tr>\n",
       "    <tr>\n",
       "      <th>38117</th>\n",
       "      <td>NaN</td>\n",
       "    </tr>\n",
       "    <tr>\n",
       "      <th>38118</th>\n",
       "      <td>1.0</td>\n",
       "    </tr>\n",
       "    <tr>\n",
       "      <th>38119</th>\n",
       "      <td>0.0</td>\n",
       "    </tr>\n",
       "    <tr>\n",
       "      <th>38120</th>\n",
       "      <td>NaN</td>\n",
       "    </tr>\n",
       "    <tr>\n",
       "      <th>...</th>\n",
       "      <td>...</td>\n",
       "    </tr>\n",
       "    <tr>\n",
       "      <th>64808</th>\n",
       "      <td>0.0</td>\n",
       "    </tr>\n",
       "    <tr>\n",
       "      <th>64809</th>\n",
       "      <td>0.0</td>\n",
       "    </tr>\n",
       "    <tr>\n",
       "      <th>64810</th>\n",
       "      <td>0.0</td>\n",
       "    </tr>\n",
       "    <tr>\n",
       "      <th>64811</th>\n",
       "      <td>NaN</td>\n",
       "    </tr>\n",
       "    <tr>\n",
       "      <th>64812</th>\n",
       "      <td>1.0</td>\n",
       "    </tr>\n",
       "  </tbody>\n",
       "</table>\n",
       "<p>22849 rows × 1 columns</p>\n",
       "</div>"
      ],
      "text/plain": [
       "       NATARMS_TOO LITTLE\n",
       "38116                 0.0\n",
       "38117                 NaN\n",
       "38118                 1.0\n",
       "38119                 0.0\n",
       "38120                 NaN\n",
       "...                   ...\n",
       "64808                 0.0\n",
       "64809                 0.0\n",
       "64810                 0.0\n",
       "64811                 NaN\n",
       "64812                 1.0\n",
       "\n",
       "[22849 rows x 1 columns]"
      ]
     },
     "execution_count": 537,
     "metadata": {},
     "output_type": "execute_result"
    }
   ],
   "source": [
    "# Find individuals who think we aren't spending enough on national defense and army\n",
    "natarms_bool = pd.get_dummies(pol[['NATARMS']])[['NATARMS_TOO LITTLE']]\n",
    "\n",
    "# Re-identify those who did not answer the question\n",
    "natarms_bool.iloc[pol['NATARMS'].isna().to_list()] = np.nan\n",
    "\n",
    "binarized['NATARMS'] = natarms_bool\n",
    "natarms_bool"
   ]
  },
  {
   "cell_type": "markdown",
   "metadata": {},
   "source": [
    "### Investment in Welfare"
   ]
  },
  {
   "cell_type": "code",
   "execution_count": 538,
   "metadata": {},
   "outputs": [
    {
     "data": {
      "text/html": [
       "<div>\n",
       "<style scoped>\n",
       "    .dataframe tbody tr th:only-of-type {\n",
       "        vertical-align: middle;\n",
       "    }\n",
       "\n",
       "    .dataframe tbody tr th {\n",
       "        vertical-align: top;\n",
       "    }\n",
       "\n",
       "    .dataframe thead th {\n",
       "        text-align: right;\n",
       "    }\n",
       "</style>\n",
       "<table border=\"1\" class=\"dataframe\">\n",
       "  <thead>\n",
       "    <tr style=\"text-align: right;\">\n",
       "      <th></th>\n",
       "      <th>NATFARE_TOO LITTLE</th>\n",
       "    </tr>\n",
       "  </thead>\n",
       "  <tbody>\n",
       "    <tr>\n",
       "      <th>38116</th>\n",
       "      <td>0.0</td>\n",
       "    </tr>\n",
       "    <tr>\n",
       "      <th>38117</th>\n",
       "      <td>NaN</td>\n",
       "    </tr>\n",
       "    <tr>\n",
       "      <th>38118</th>\n",
       "      <td>0.0</td>\n",
       "    </tr>\n",
       "    <tr>\n",
       "      <th>38119</th>\n",
       "      <td>0.0</td>\n",
       "    </tr>\n",
       "    <tr>\n",
       "      <th>38120</th>\n",
       "      <td>NaN</td>\n",
       "    </tr>\n",
       "    <tr>\n",
       "      <th>...</th>\n",
       "      <td>...</td>\n",
       "    </tr>\n",
       "    <tr>\n",
       "      <th>64808</th>\n",
       "      <td>0.0</td>\n",
       "    </tr>\n",
       "    <tr>\n",
       "      <th>64809</th>\n",
       "      <td>1.0</td>\n",
       "    </tr>\n",
       "    <tr>\n",
       "      <th>64810</th>\n",
       "      <td>0.0</td>\n",
       "    </tr>\n",
       "    <tr>\n",
       "      <th>64811</th>\n",
       "      <td>NaN</td>\n",
       "    </tr>\n",
       "    <tr>\n",
       "      <th>64812</th>\n",
       "      <td>0.0</td>\n",
       "    </tr>\n",
       "  </tbody>\n",
       "</table>\n",
       "<p>22849 rows × 1 columns</p>\n",
       "</div>"
      ],
      "text/plain": [
       "       NATFARE_TOO LITTLE\n",
       "38116                 0.0\n",
       "38117                 NaN\n",
       "38118                 0.0\n",
       "38119                 0.0\n",
       "38120                 NaN\n",
       "...                   ...\n",
       "64808                 0.0\n",
       "64809                 1.0\n",
       "64810                 0.0\n",
       "64811                 NaN\n",
       "64812                 0.0\n",
       "\n",
       "[22849 rows x 1 columns]"
      ]
     },
     "execution_count": 538,
     "metadata": {},
     "output_type": "execute_result"
    }
   ],
   "source": [
    "natfare_bool = pd.get_dummies(pol[['NATFARE']])[['NATFARE_TOO LITTLE']]\n",
    "\n",
    "# Re-identify those who did not answer the question\n",
    "natfare_bool.iloc[pol['NATFARE'].isna().to_list()] = np.nan\n",
    "\n",
    "binarized['NATFARE'] = natfare_bool\n",
    "natfare_bool"
   ]
  },
  {
   "cell_type": "markdown",
   "metadata": {},
   "source": [
    "### Investment in Social Security"
   ]
  },
  {
   "cell_type": "code",
   "execution_count": 539,
   "metadata": {},
   "outputs": [
    {
     "data": {
      "text/html": [
       "<div>\n",
       "<style scoped>\n",
       "    .dataframe tbody tr th:only-of-type {\n",
       "        vertical-align: middle;\n",
       "    }\n",
       "\n",
       "    .dataframe tbody tr th {\n",
       "        vertical-align: top;\n",
       "    }\n",
       "\n",
       "    .dataframe thead th {\n",
       "        text-align: right;\n",
       "    }\n",
       "</style>\n",
       "<table border=\"1\" class=\"dataframe\">\n",
       "  <thead>\n",
       "    <tr style=\"text-align: right;\">\n",
       "      <th></th>\n",
       "      <th>NATSOC_TOO LITTLE</th>\n",
       "    </tr>\n",
       "  </thead>\n",
       "  <tbody>\n",
       "    <tr>\n",
       "      <th>38116</th>\n",
       "      <td>1.0</td>\n",
       "    </tr>\n",
       "    <tr>\n",
       "      <th>38117</th>\n",
       "      <td>1.0</td>\n",
       "    </tr>\n",
       "    <tr>\n",
       "      <th>38118</th>\n",
       "      <td>0.0</td>\n",
       "    </tr>\n",
       "    <tr>\n",
       "      <th>38119</th>\n",
       "      <td>1.0</td>\n",
       "    </tr>\n",
       "    <tr>\n",
       "      <th>38120</th>\n",
       "      <td>0.0</td>\n",
       "    </tr>\n",
       "    <tr>\n",
       "      <th>...</th>\n",
       "      <td>...</td>\n",
       "    </tr>\n",
       "    <tr>\n",
       "      <th>64808</th>\n",
       "      <td>1.0</td>\n",
       "    </tr>\n",
       "    <tr>\n",
       "      <th>64809</th>\n",
       "      <td>0.0</td>\n",
       "    </tr>\n",
       "    <tr>\n",
       "      <th>64810</th>\n",
       "      <td>1.0</td>\n",
       "    </tr>\n",
       "    <tr>\n",
       "      <th>64811</th>\n",
       "      <td>0.0</td>\n",
       "    </tr>\n",
       "    <tr>\n",
       "      <th>64812</th>\n",
       "      <td>1.0</td>\n",
       "    </tr>\n",
       "  </tbody>\n",
       "</table>\n",
       "<p>22849 rows × 1 columns</p>\n",
       "</div>"
      ],
      "text/plain": [
       "       NATSOC_TOO LITTLE\n",
       "38116                1.0\n",
       "38117                1.0\n",
       "38118                0.0\n",
       "38119                1.0\n",
       "38120                0.0\n",
       "...                  ...\n",
       "64808                1.0\n",
       "64809                0.0\n",
       "64810                1.0\n",
       "64811                0.0\n",
       "64812                1.0\n",
       "\n",
       "[22849 rows x 1 columns]"
      ]
     },
     "execution_count": 539,
     "metadata": {},
     "output_type": "execute_result"
    }
   ],
   "source": [
    "natsoc_bool = pd.get_dummies(pol[['NATSOC']])[['NATSOC_TOO LITTLE']]\n",
    "\n",
    "# Re-identify those who did not answer the question\n",
    "natsoc_bool.iloc[pol['NATSOC'].isna().to_list()] = np.nan\n",
    "\n",
    "binarized['NATSOC'] = natsoc_bool\n",
    "natsoc_bool"
   ]
  },
  {
   "cell_type": "markdown",
   "metadata": {},
   "source": [
    "### Opinion on Gun Regulation"
   ]
  },
  {
   "cell_type": "code",
   "execution_count": 540,
   "metadata": {},
   "outputs": [
    {
     "data": {
      "text/plain": [
       "GUNLAW\n",
       "FAVOR     10679\n",
       "OPPOSE     3339\n",
       "dtype: int64"
      ]
     },
     "execution_count": 540,
     "metadata": {},
     "output_type": "execute_result"
    }
   ],
   "source": [
    "pol[['GUNLAW']].value_counts()"
   ]
  },
  {
   "cell_type": "code",
   "execution_count": 541,
   "metadata": {},
   "outputs": [
    {
     "data": {
      "text/html": [
       "<div>\n",
       "<style scoped>\n",
       "    .dataframe tbody tr th:only-of-type {\n",
       "        vertical-align: middle;\n",
       "    }\n",
       "\n",
       "    .dataframe tbody tr th {\n",
       "        vertical-align: top;\n",
       "    }\n",
       "\n",
       "    .dataframe thead th {\n",
       "        text-align: right;\n",
       "    }\n",
       "</style>\n",
       "<table border=\"1\" class=\"dataframe\">\n",
       "  <thead>\n",
       "    <tr style=\"text-align: right;\">\n",
       "      <th></th>\n",
       "      <th>GUNLAW_FAVOR</th>\n",
       "    </tr>\n",
       "  </thead>\n",
       "  <tbody>\n",
       "    <tr>\n",
       "      <th>38116</th>\n",
       "      <td>0.0</td>\n",
       "    </tr>\n",
       "    <tr>\n",
       "      <th>38117</th>\n",
       "      <td>1.0</td>\n",
       "    </tr>\n",
       "    <tr>\n",
       "      <th>38118</th>\n",
       "      <td>NaN</td>\n",
       "    </tr>\n",
       "    <tr>\n",
       "      <th>38119</th>\n",
       "      <td>NaN</td>\n",
       "    </tr>\n",
       "    <tr>\n",
       "      <th>38120</th>\n",
       "      <td>NaN</td>\n",
       "    </tr>\n",
       "    <tr>\n",
       "      <th>...</th>\n",
       "      <td>...</td>\n",
       "    </tr>\n",
       "    <tr>\n",
       "      <th>64808</th>\n",
       "      <td>1.0</td>\n",
       "    </tr>\n",
       "    <tr>\n",
       "      <th>64809</th>\n",
       "      <td>0.0</td>\n",
       "    </tr>\n",
       "    <tr>\n",
       "      <th>64810</th>\n",
       "      <td>0.0</td>\n",
       "    </tr>\n",
       "    <tr>\n",
       "      <th>64811</th>\n",
       "      <td>1.0</td>\n",
       "    </tr>\n",
       "    <tr>\n",
       "      <th>64812</th>\n",
       "      <td>NaN</td>\n",
       "    </tr>\n",
       "  </tbody>\n",
       "</table>\n",
       "<p>22849 rows × 1 columns</p>\n",
       "</div>"
      ],
      "text/plain": [
       "       GUNLAW_FAVOR\n",
       "38116           0.0\n",
       "38117           1.0\n",
       "38118           NaN\n",
       "38119           NaN\n",
       "38120           NaN\n",
       "...             ...\n",
       "64808           1.0\n",
       "64809           0.0\n",
       "64810           0.0\n",
       "64811           1.0\n",
       "64812           NaN\n",
       "\n",
       "[22849 rows x 1 columns]"
      ]
     },
     "execution_count": 541,
     "metadata": {},
     "output_type": "execute_result"
    }
   ],
   "source": [
    "gunlaw_bool = pd.get_dummies(pol[['GUNLAW']])[['GUNLAW_FAVOR']]\n",
    "\n",
    "#Re-identify those who did not answer the question\n",
    "gunlaw_bool.iloc[pol['GUNLAW'].isna().to_list()] = np.nan\n",
    "\n",
    "binarized['GUNLAW'] = gunlaw_bool\n",
    "gunlaw_bool"
   ]
  },
  {
   "cell_type": "markdown",
   "metadata": {},
   "source": [
    "### Opinion on Abortion"
   ]
  },
  {
   "cell_type": "code",
   "execution_count": 542,
   "metadata": {},
   "outputs": [
    {
     "data": {
      "text/plain": [
       "ABANY\n",
       "NO       7640\n",
       "YES      6052\n",
       "dtype: int64"
      ]
     },
     "execution_count": 542,
     "metadata": {},
     "output_type": "execute_result"
    }
   ],
   "source": [
    "pol[['ABANY']].value_counts()"
   ]
  },
  {
   "cell_type": "code",
   "execution_count": 543,
   "metadata": {},
   "outputs": [
    {
     "data": {
      "text/html": [
       "<div>\n",
       "<style scoped>\n",
       "    .dataframe tbody tr th:only-of-type {\n",
       "        vertical-align: middle;\n",
       "    }\n",
       "\n",
       "    .dataframe tbody tr th {\n",
       "        vertical-align: top;\n",
       "    }\n",
       "\n",
       "    .dataframe thead th {\n",
       "        text-align: right;\n",
       "    }\n",
       "</style>\n",
       "<table border=\"1\" class=\"dataframe\">\n",
       "  <thead>\n",
       "    <tr style=\"text-align: right;\">\n",
       "      <th></th>\n",
       "      <th>ABANY_YES</th>\n",
       "    </tr>\n",
       "  </thead>\n",
       "  <tbody>\n",
       "    <tr>\n",
       "      <th>38116</th>\n",
       "      <td>0.0</td>\n",
       "    </tr>\n",
       "    <tr>\n",
       "      <th>38117</th>\n",
       "      <td>0.0</td>\n",
       "    </tr>\n",
       "    <tr>\n",
       "      <th>38118</th>\n",
       "      <td>NaN</td>\n",
       "    </tr>\n",
       "    <tr>\n",
       "      <th>38119</th>\n",
       "      <td>NaN</td>\n",
       "    </tr>\n",
       "    <tr>\n",
       "      <th>38120</th>\n",
       "      <td>NaN</td>\n",
       "    </tr>\n",
       "    <tr>\n",
       "      <th>...</th>\n",
       "      <td>...</td>\n",
       "    </tr>\n",
       "    <tr>\n",
       "      <th>64808</th>\n",
       "      <td>0.0</td>\n",
       "    </tr>\n",
       "    <tr>\n",
       "      <th>64809</th>\n",
       "      <td>1.0</td>\n",
       "    </tr>\n",
       "    <tr>\n",
       "      <th>64810</th>\n",
       "      <td>0.0</td>\n",
       "    </tr>\n",
       "    <tr>\n",
       "      <th>64811</th>\n",
       "      <td>0.0</td>\n",
       "    </tr>\n",
       "    <tr>\n",
       "      <th>64812</th>\n",
       "      <td>NaN</td>\n",
       "    </tr>\n",
       "  </tbody>\n",
       "</table>\n",
       "<p>22849 rows × 1 columns</p>\n",
       "</div>"
      ],
      "text/plain": [
       "       ABANY_YES\n",
       "38116        0.0\n",
       "38117        0.0\n",
       "38118        NaN\n",
       "38119        NaN\n",
       "38120        NaN\n",
       "...          ...\n",
       "64808        0.0\n",
       "64809        1.0\n",
       "64810        0.0\n",
       "64811        0.0\n",
       "64812        NaN\n",
       "\n",
       "[22849 rows x 1 columns]"
      ]
     },
     "execution_count": 543,
     "metadata": {},
     "output_type": "execute_result"
    }
   ],
   "source": [
    "abany_bool = pd.get_dummies(pol[['ABANY']])[['ABANY_YES']]\n",
    "\n",
    "#Re-identify those who did not answer the question\n",
    "abany_bool.iloc[pol['ABANY'].isna().to_list()] = np.nan\n",
    "\n",
    "binarized['ABANY'] = abany_bool\n",
    "abany_bool"
   ]
  },
  {
   "cell_type": "markdown",
   "metadata": {},
   "source": [
    "### Opinion on Racial Discrimination"
   ]
  },
  {
   "cell_type": "code",
   "execution_count": 544,
   "metadata": {},
   "outputs": [
    {
     "data": {
      "text/plain": [
       "ABANY\n",
       "NO       7640\n",
       "YES      6052\n",
       "dtype: int64"
      ]
     },
     "execution_count": 544,
     "metadata": {},
     "output_type": "execute_result"
    }
   ],
   "source": [
    "pol[['ABANY']].value_counts()"
   ]
  },
  {
   "cell_type": "code",
   "execution_count": 545,
   "metadata": {},
   "outputs": [
    {
     "data": {
      "text/html": [
       "<div>\n",
       "<style scoped>\n",
       "    .dataframe tbody tr th:only-of-type {\n",
       "        vertical-align: middle;\n",
       "    }\n",
       "\n",
       "    .dataframe tbody tr th {\n",
       "        vertical-align: top;\n",
       "    }\n",
       "\n",
       "    .dataframe thead th {\n",
       "        text-align: right;\n",
       "    }\n",
       "</style>\n",
       "<table border=\"1\" class=\"dataframe\">\n",
       "  <thead>\n",
       "    <tr style=\"text-align: right;\">\n",
       "      <th></th>\n",
       "      <th>RACDIF1_YES</th>\n",
       "    </tr>\n",
       "  </thead>\n",
       "  <tbody>\n",
       "    <tr>\n",
       "      <th>38116</th>\n",
       "      <td>0.0</td>\n",
       "    </tr>\n",
       "    <tr>\n",
       "      <th>38117</th>\n",
       "      <td>NaN</td>\n",
       "    </tr>\n",
       "    <tr>\n",
       "      <th>38118</th>\n",
       "      <td>0.0</td>\n",
       "    </tr>\n",
       "    <tr>\n",
       "      <th>38119</th>\n",
       "      <td>0.0</td>\n",
       "    </tr>\n",
       "    <tr>\n",
       "      <th>38120</th>\n",
       "      <td>0.0</td>\n",
       "    </tr>\n",
       "    <tr>\n",
       "      <th>...</th>\n",
       "      <td>...</td>\n",
       "    </tr>\n",
       "    <tr>\n",
       "      <th>64808</th>\n",
       "      <td>NaN</td>\n",
       "    </tr>\n",
       "    <tr>\n",
       "      <th>64809</th>\n",
       "      <td>1.0</td>\n",
       "    </tr>\n",
       "    <tr>\n",
       "      <th>64810</th>\n",
       "      <td>0.0</td>\n",
       "    </tr>\n",
       "    <tr>\n",
       "      <th>64811</th>\n",
       "      <td>NaN</td>\n",
       "    </tr>\n",
       "    <tr>\n",
       "      <th>64812</th>\n",
       "      <td>0.0</td>\n",
       "    </tr>\n",
       "  </tbody>\n",
       "</table>\n",
       "<p>22849 rows × 1 columns</p>\n",
       "</div>"
      ],
      "text/plain": [
       "       RACDIF1_YES\n",
       "38116          0.0\n",
       "38117          NaN\n",
       "38118          0.0\n",
       "38119          0.0\n",
       "38120          0.0\n",
       "...            ...\n",
       "64808          NaN\n",
       "64809          1.0\n",
       "64810          0.0\n",
       "64811          NaN\n",
       "64812          0.0\n",
       "\n",
       "[22849 rows x 1 columns]"
      ]
     },
     "execution_count": 545,
     "metadata": {},
     "output_type": "execute_result"
    }
   ],
   "source": [
    "racdif1_bool = pd.get_dummies(pol[['RACDIF1']])[['RACDIF1_YES']]\n",
    "\n",
    "#Re-identify those who did not answer the question\n",
    "racdif1_bool.iloc[pol['RACDIF1'].isna().to_list()] = np.nan\n",
    "\n",
    "binarized['RACDIF1'] = racdif1_bool\n",
    "racdif1_bool"
   ]
  },
  {
   "cell_type": "markdown",
   "metadata": {},
   "source": [
    "# Centering and Reorganizing POLVIEWS"
   ]
  },
  {
   "cell_type": "markdown",
   "metadata": {},
   "source": [
    "As per Ramesh's suggestion, we're centering `POLVIEWS` at 0, so that the sign of the variable is informative in whether or not someone is conservative or liberal."
   ]
  },
  {
   "cell_type": "code",
   "execution_count": 546,
   "metadata": {},
   "outputs": [
    {
     "data": {
      "text/plain": [
       "POLVIEWS            \n",
       "MODERATE                8831\n",
       "CONSERVATIVE            3601\n",
       "SLGHTLY CONSERVATIVE    3231\n",
       "LIBERAL                 2770\n",
       "SLIGHTLY LIBERAL        2604\n",
       "EXTREMELY LIBERAL        917\n",
       "EXTRMLY CONSERVATIVE     895\n",
       "dtype: int64"
      ]
     },
     "execution_count": 546,
     "metadata": {},
     "output_type": "execute_result"
    }
   ],
   "source": [
    "pol[['POLVIEWS']].value_counts()"
   ]
  },
  {
   "cell_type": "code",
   "execution_count": 547,
   "metadata": {},
   "outputs": [],
   "source": [
    "neg_three = pol[['POLVIEWS']] == 'EXTREMELY LIBERAL'\n",
    "neg_two = pol[['POLVIEWS']] == 'LIBERAL'\n",
    "neg_one = pol[['POLVIEWS']] == 'SLIGHTLY LIBERAL'\n",
    "zero = pol[['POLVIEWS']] == 'MODERATE'\n",
    "one = pol[['POLVIEWS']] == 'SLGHTLY CONSERVATIVE'\n",
    "two = pol[['POLVIEWS']] == 'CONSERVATIVE'\n",
    "three = pol[['POLVIEWS']] == 'EXTRMLY CONSERVATIVE'"
   ]
  },
  {
   "cell_type": "code",
   "execution_count": 548,
   "metadata": {},
   "outputs": [
    {
     "data": {
      "text/html": [
       "<div>\n",
       "<style scoped>\n",
       "    .dataframe tbody tr th:only-of-type {\n",
       "        vertical-align: middle;\n",
       "    }\n",
       "\n",
       "    .dataframe tbody tr th {\n",
       "        vertical-align: top;\n",
       "    }\n",
       "\n",
       "    .dataframe thead th {\n",
       "        text-align: right;\n",
       "    }\n",
       "</style>\n",
       "<table border=\"1\" class=\"dataframe\">\n",
       "  <thead>\n",
       "    <tr style=\"text-align: right;\">\n",
       "      <th></th>\n",
       "      <th>POLVIEWS</th>\n",
       "    </tr>\n",
       "  </thead>\n",
       "  <tbody>\n",
       "    <tr>\n",
       "      <th>38116</th>\n",
       "      <td>1</td>\n",
       "    </tr>\n",
       "    <tr>\n",
       "      <th>38117</th>\n",
       "      <td>2</td>\n",
       "    </tr>\n",
       "    <tr>\n",
       "      <th>38118</th>\n",
       "      <td>2</td>\n",
       "    </tr>\n",
       "    <tr>\n",
       "      <th>38119</th>\n",
       "      <td>1</td>\n",
       "    </tr>\n",
       "    <tr>\n",
       "      <th>38120</th>\n",
       "      <td>-1</td>\n",
       "    </tr>\n",
       "    <tr>\n",
       "      <th>...</th>\n",
       "      <td>...</td>\n",
       "    </tr>\n",
       "    <tr>\n",
       "      <th>64808</th>\n",
       "      <td>0</td>\n",
       "    </tr>\n",
       "    <tr>\n",
       "      <th>64809</th>\n",
       "      <td>0</td>\n",
       "    </tr>\n",
       "    <tr>\n",
       "      <th>64810</th>\n",
       "      <td>1</td>\n",
       "    </tr>\n",
       "    <tr>\n",
       "      <th>64811</th>\n",
       "      <td>0</td>\n",
       "    </tr>\n",
       "    <tr>\n",
       "      <th>64812</th>\n",
       "      <td>2</td>\n",
       "    </tr>\n",
       "  </tbody>\n",
       "</table>\n",
       "<p>22849 rows × 1 columns</p>\n",
       "</div>"
      ],
      "text/plain": [
       "       POLVIEWS\n",
       "38116         1\n",
       "38117         2\n",
       "38118         2\n",
       "38119         1\n",
       "38120        -1\n",
       "...         ...\n",
       "64808         0\n",
       "64809         0\n",
       "64810         1\n",
       "64811         0\n",
       "64812         2\n",
       "\n",
       "[22849 rows x 1 columns]"
      ]
     },
     "execution_count": 548,
     "metadata": {},
     "output_type": "execute_result"
    }
   ],
   "source": [
    "polviews = -3 * neg_three + -2 * neg_two + -1 * neg_one + 0 * zero + 1 * one + 2 * two + 3 * three\n",
    "binarized['POLVIEWS'] = polviews\n",
    "polviews"
   ]
  },
  {
   "cell_type": "markdown",
   "metadata": {},
   "source": [
    "# Cleaned Data Ready for Use!"
   ]
  },
  {
   "cell_type": "code",
   "execution_count": 549,
   "metadata": {},
   "outputs": [
    {
     "data": {
      "text/html": [
       "<div>\n",
       "<style scoped>\n",
       "    .dataframe tbody tr th:only-of-type {\n",
       "        vertical-align: middle;\n",
       "    }\n",
       "\n",
       "    .dataframe tbody tr th {\n",
       "        vertical-align: top;\n",
       "    }\n",
       "\n",
       "    .dataframe thead th {\n",
       "        text-align: right;\n",
       "    }\n",
       "</style>\n",
       "<table border=\"1\" class=\"dataframe\">\n",
       "  <thead>\n",
       "    <tr style=\"text-align: right;\">\n",
       "      <th></th>\n",
       "      <th>YEAR</th>\n",
       "      <th>POLVIEWS</th>\n",
       "      <th>NATENVIR</th>\n",
       "      <th>NATARMS</th>\n",
       "      <th>NATFARE</th>\n",
       "      <th>NATSOC</th>\n",
       "      <th>GUNLAW</th>\n",
       "      <th>ABANY</th>\n",
       "      <th>HOMOSEX</th>\n",
       "      <th>RACDIF1</th>\n",
       "    </tr>\n",
       "  </thead>\n",
       "  <tbody>\n",
       "    <tr>\n",
       "      <th>38116</th>\n",
       "      <td>2000.0</td>\n",
       "      <td>1</td>\n",
       "      <td>1.0</td>\n",
       "      <td>0.0</td>\n",
       "      <td>0.0</td>\n",
       "      <td>1.0</td>\n",
       "      <td>0.0</td>\n",
       "      <td>0.0</td>\n",
       "      <td>0.0</td>\n",
       "      <td>0.0</td>\n",
       "    </tr>\n",
       "    <tr>\n",
       "      <th>38117</th>\n",
       "      <td>2000.0</td>\n",
       "      <td>2</td>\n",
       "      <td>NaN</td>\n",
       "      <td>NaN</td>\n",
       "      <td>NaN</td>\n",
       "      <td>1.0</td>\n",
       "      <td>1.0</td>\n",
       "      <td>0.0</td>\n",
       "      <td>NaN</td>\n",
       "      <td>NaN</td>\n",
       "    </tr>\n",
       "    <tr>\n",
       "      <th>38118</th>\n",
       "      <td>2000.0</td>\n",
       "      <td>2</td>\n",
       "      <td>1.0</td>\n",
       "      <td>1.0</td>\n",
       "      <td>0.0</td>\n",
       "      <td>0.0</td>\n",
       "      <td>NaN</td>\n",
       "      <td>NaN</td>\n",
       "      <td>NaN</td>\n",
       "      <td>0.0</td>\n",
       "    </tr>\n",
       "    <tr>\n",
       "      <th>38119</th>\n",
       "      <td>2000.0</td>\n",
       "      <td>1</td>\n",
       "      <td>1.0</td>\n",
       "      <td>0.0</td>\n",
       "      <td>0.0</td>\n",
       "      <td>1.0</td>\n",
       "      <td>NaN</td>\n",
       "      <td>NaN</td>\n",
       "      <td>NaN</td>\n",
       "      <td>0.0</td>\n",
       "    </tr>\n",
       "    <tr>\n",
       "      <th>38120</th>\n",
       "      <td>2000.0</td>\n",
       "      <td>-1</td>\n",
       "      <td>NaN</td>\n",
       "      <td>NaN</td>\n",
       "      <td>NaN</td>\n",
       "      <td>0.0</td>\n",
       "      <td>NaN</td>\n",
       "      <td>NaN</td>\n",
       "      <td>NaN</td>\n",
       "      <td>0.0</td>\n",
       "    </tr>\n",
       "  </tbody>\n",
       "</table>\n",
       "</div>"
      ],
      "text/plain": [
       "         YEAR  POLVIEWS  NATENVIR  NATARMS  NATFARE  NATSOC  GUNLAW  ABANY  \\\n",
       "38116  2000.0         1       1.0      0.0      0.0     1.0     0.0    0.0   \n",
       "38117  2000.0         2       NaN      NaN      NaN     1.0     1.0    0.0   \n",
       "38118  2000.0         2       1.0      1.0      0.0     0.0     NaN    NaN   \n",
       "38119  2000.0         1       1.0      0.0      0.0     1.0     NaN    NaN   \n",
       "38120  2000.0        -1       NaN      NaN      NaN     0.0     NaN    NaN   \n",
       "\n",
       "       HOMOSEX  RACDIF1  \n",
       "38116      0.0      0.0  \n",
       "38117      NaN      NaN  \n",
       "38118      NaN      0.0  \n",
       "38119      NaN      0.0  \n",
       "38120      NaN      0.0  "
      ]
     },
     "execution_count": 549,
     "metadata": {},
     "output_type": "execute_result"
    }
   ],
   "source": [
    "clean_data = binarized.copy()\n",
    "clean_data.head()"
   ]
  },
  {
   "cell_type": "markdown",
   "metadata": {},
   "source": [
    "# Notes on Value Imputation\n",
    "\n",
    "Like I said before, our data is MCAR, so it stands that we could just use automatic imputation as implemented by PyMC3. In order to do this, we literally do nothing; PyMC3 will automatically do the imputation once it sees NaN values (source: https://discourse.pymc.io/t/missing-values-in-a-model/2157/9).\n",
    "\n",
    "Logically, this imputation will not affect our update to the prior, since it is treated as an unseen random variable with a prior that can be updated just like any other random variable."
   ]
  },
  {
   "cell_type": "markdown",
   "metadata": {},
   "source": [
    "# Yeet\n",
    "Let's do this thing!"
   ]
  },
  {
   "cell_type": "code",
   "execution_count": 550,
   "metadata": {},
   "outputs": [
    {
     "data": {
      "text/html": [
       "<div>\n",
       "<style scoped>\n",
       "    .dataframe tbody tr th:only-of-type {\n",
       "        vertical-align: middle;\n",
       "    }\n",
       "\n",
       "    .dataframe tbody tr th {\n",
       "        vertical-align: top;\n",
       "    }\n",
       "\n",
       "    .dataframe thead th {\n",
       "        text-align: right;\n",
       "    }\n",
       "</style>\n",
       "<table border=\"1\" class=\"dataframe\">\n",
       "  <thead>\n",
       "    <tr style=\"text-align: right;\">\n",
       "      <th></th>\n",
       "      <th>YEAR</th>\n",
       "      <th>POLVIEWS</th>\n",
       "      <th>NATENVIR</th>\n",
       "      <th>NATARMS</th>\n",
       "      <th>NATFARE</th>\n",
       "      <th>NATSOC</th>\n",
       "      <th>GUNLAW</th>\n",
       "      <th>ABANY</th>\n",
       "      <th>HOMOSEX</th>\n",
       "      <th>RACDIF1</th>\n",
       "    </tr>\n",
       "  </thead>\n",
       "  <tbody>\n",
       "    <tr>\n",
       "      <th>38116</th>\n",
       "      <td>2000.0</td>\n",
       "      <td>1</td>\n",
       "      <td>1.0</td>\n",
       "      <td>0.0</td>\n",
       "      <td>0.0</td>\n",
       "      <td>1.0</td>\n",
       "      <td>0.0</td>\n",
       "      <td>0.0</td>\n",
       "      <td>0.0</td>\n",
       "      <td>0.0</td>\n",
       "    </tr>\n",
       "    <tr>\n",
       "      <th>38122</th>\n",
       "      <td>2000.0</td>\n",
       "      <td>0</td>\n",
       "      <td>1.0</td>\n",
       "      <td>0.0</td>\n",
       "      <td>0.0</td>\n",
       "      <td>0.0</td>\n",
       "      <td>0.0</td>\n",
       "      <td>0.0</td>\n",
       "      <td>1.0</td>\n",
       "      <td>0.0</td>\n",
       "    </tr>\n",
       "    <tr>\n",
       "      <th>38137</th>\n",
       "      <td>2000.0</td>\n",
       "      <td>0</td>\n",
       "      <td>1.0</td>\n",
       "      <td>0.0</td>\n",
       "      <td>0.0</td>\n",
       "      <td>1.0</td>\n",
       "      <td>1.0</td>\n",
       "      <td>1.0</td>\n",
       "      <td>1.0</td>\n",
       "      <td>0.0</td>\n",
       "    </tr>\n",
       "    <tr>\n",
       "      <th>38138</th>\n",
       "      <td>2000.0</td>\n",
       "      <td>-1</td>\n",
       "      <td>1.0</td>\n",
       "      <td>0.0</td>\n",
       "      <td>0.0</td>\n",
       "      <td>0.0</td>\n",
       "      <td>1.0</td>\n",
       "      <td>0.0</td>\n",
       "      <td>1.0</td>\n",
       "      <td>0.0</td>\n",
       "    </tr>\n",
       "    <tr>\n",
       "      <th>38139</th>\n",
       "      <td>2000.0</td>\n",
       "      <td>2</td>\n",
       "      <td>0.0</td>\n",
       "      <td>0.0</td>\n",
       "      <td>0.0</td>\n",
       "      <td>0.0</td>\n",
       "      <td>0.0</td>\n",
       "      <td>1.0</td>\n",
       "      <td>1.0</td>\n",
       "      <td>0.0</td>\n",
       "    </tr>\n",
       "    <tr>\n",
       "      <th>...</th>\n",
       "      <td>...</td>\n",
       "      <td>...</td>\n",
       "      <td>...</td>\n",
       "      <td>...</td>\n",
       "      <td>...</td>\n",
       "      <td>...</td>\n",
       "      <td>...</td>\n",
       "      <td>...</td>\n",
       "      <td>...</td>\n",
       "      <td>...</td>\n",
       "    </tr>\n",
       "    <tr>\n",
       "      <th>64786</th>\n",
       "      <td>2018.0</td>\n",
       "      <td>-3</td>\n",
       "      <td>1.0</td>\n",
       "      <td>0.0</td>\n",
       "      <td>0.0</td>\n",
       "      <td>1.0</td>\n",
       "      <td>1.0</td>\n",
       "      <td>1.0</td>\n",
       "      <td>0.0</td>\n",
       "      <td>1.0</td>\n",
       "    </tr>\n",
       "    <tr>\n",
       "      <th>64791</th>\n",
       "      <td>2018.0</td>\n",
       "      <td>-2</td>\n",
       "      <td>1.0</td>\n",
       "      <td>0.0</td>\n",
       "      <td>1.0</td>\n",
       "      <td>1.0</td>\n",
       "      <td>0.0</td>\n",
       "      <td>1.0</td>\n",
       "      <td>0.0</td>\n",
       "      <td>1.0</td>\n",
       "    </tr>\n",
       "    <tr>\n",
       "      <th>64799</th>\n",
       "      <td>2018.0</td>\n",
       "      <td>0</td>\n",
       "      <td>1.0</td>\n",
       "      <td>0.0</td>\n",
       "      <td>0.0</td>\n",
       "      <td>0.0</td>\n",
       "      <td>0.0</td>\n",
       "      <td>1.0</td>\n",
       "      <td>0.0</td>\n",
       "      <td>1.0</td>\n",
       "    </tr>\n",
       "    <tr>\n",
       "      <th>64805</th>\n",
       "      <td>2018.0</td>\n",
       "      <td>0</td>\n",
       "      <td>1.0</td>\n",
       "      <td>0.0</td>\n",
       "      <td>0.0</td>\n",
       "      <td>0.0</td>\n",
       "      <td>1.0</td>\n",
       "      <td>1.0</td>\n",
       "      <td>0.0</td>\n",
       "      <td>1.0</td>\n",
       "    </tr>\n",
       "    <tr>\n",
       "      <th>64809</th>\n",
       "      <td>2018.0</td>\n",
       "      <td>0</td>\n",
       "      <td>1.0</td>\n",
       "      <td>0.0</td>\n",
       "      <td>1.0</td>\n",
       "      <td>0.0</td>\n",
       "      <td>0.0</td>\n",
       "      <td>1.0</td>\n",
       "      <td>0.0</td>\n",
       "      <td>1.0</td>\n",
       "    </tr>\n",
       "  </tbody>\n",
       "</table>\n",
       "<p>2866 rows × 10 columns</p>\n",
       "</div>"
      ],
      "text/plain": [
       "         YEAR  POLVIEWS  NATENVIR  NATARMS  NATFARE  NATSOC  GUNLAW  ABANY  \\\n",
       "38116  2000.0         1       1.0      0.0      0.0     1.0     0.0    0.0   \n",
       "38122  2000.0         0       1.0      0.0      0.0     0.0     0.0    0.0   \n",
       "38137  2000.0         0       1.0      0.0      0.0     1.0     1.0    1.0   \n",
       "38138  2000.0        -1       1.0      0.0      0.0     0.0     1.0    0.0   \n",
       "38139  2000.0         2       0.0      0.0      0.0     0.0     0.0    1.0   \n",
       "...       ...       ...       ...      ...      ...     ...     ...    ...   \n",
       "64786  2018.0        -3       1.0      0.0      0.0     1.0     1.0    1.0   \n",
       "64791  2018.0        -2       1.0      0.0      1.0     1.0     0.0    1.0   \n",
       "64799  2018.0         0       1.0      0.0      0.0     0.0     0.0    1.0   \n",
       "64805  2018.0         0       1.0      0.0      0.0     0.0     1.0    1.0   \n",
       "64809  2018.0         0       1.0      0.0      1.0     0.0     0.0    1.0   \n",
       "\n",
       "       HOMOSEX  RACDIF1  \n",
       "38116      0.0      0.0  \n",
       "38122      1.0      0.0  \n",
       "38137      1.0      0.0  \n",
       "38138      1.0      0.0  \n",
       "38139      1.0      0.0  \n",
       "...        ...      ...  \n",
       "64786      0.0      1.0  \n",
       "64791      0.0      1.0  \n",
       "64799      0.0      1.0  \n",
       "64805      0.0      1.0  \n",
       "64809      0.0      1.0  \n",
       "\n",
       "[2866 rows x 10 columns]"
      ]
     },
     "execution_count": 550,
     "metadata": {},
     "output_type": "execute_result"
    }
   ],
   "source": [
    "test = clean_data.dropna()\n",
    "test"
   ]
  },
  {
   "cell_type": "code",
   "execution_count": 551,
   "metadata": {},
   "outputs": [
    {
     "data": {
      "text/plain": [
       "Index(['NATENVIR', 'NATARMS', 'NATFARE', 'NATSOC', 'GUNLAW', 'ABANY',\n",
       "       'HOMOSEX', 'RACDIF1'],\n",
       "      dtype='object')"
      ]
     },
     "execution_count": 551,
     "metadata": {},
     "output_type": "execute_result"
    }
   ],
   "source": [
    "#questions = clean_data.columns[2:]\n",
    "questions = test.columns[2:]\n",
    "questions"
   ]
  },
  {
   "cell_type": "code",
   "execution_count": 552,
   "metadata": {},
   "outputs": [],
   "source": [
    "import theano.tensor as tt"
   ]
  },
  {
   "cell_type": "code",
   "execution_count": 631,
   "metadata": {},
   "outputs": [
    {
     "name": "stderr",
     "output_type": "stream",
     "text": [
      "/var/folders/r2/k7ydhtv97nvfmfl71y382zy40000gn/T/ipykernel_9941/2085958981.py:9: FutureWarning: In v4.0, pm.sample will return an `arviz.InferenceData` object instead of a `MultiTrace` by default. You can pass return_inferencedata=True or return_inferencedata=False to be safe and silence this warning.\n",
      "  trace = pm.sample(500, tune=2000)\n",
      "Auto-assigning NUTS sampler...\n",
      "Initializing NUTS using jitter+adapt_diag...\n",
      "Multiprocess sampling (4 chains in 4 jobs)\n",
      "NUTS: [beta, eps]\n"
     ]
    },
    {
     "data": {
      "text/html": [
       "\n",
       "    <div>\n",
       "        <style>\n",
       "            /* Turns off some styling */\n",
       "            progress {\n",
       "                /* gets rid of default border in Firefox and Opera. */\n",
       "                border: none;\n",
       "                /* Needs to be in here for Safari polyfill so background images work as expected. */\n",
       "                background-size: auto;\n",
       "            }\n",
       "            .progress-bar-interrupted, .progress-bar-interrupted::-webkit-progress-bar {\n",
       "                background: #F44336;\n",
       "            }\n",
       "        </style>\n",
       "      <progress value='10000' class='' max='10000' style='width:300px; height:20px; vertical-align: middle;'></progress>\n",
       "      100.00% [10000/10000 01:22<00:00 Sampling 4 chains, 0 divergences]\n",
       "    </div>\n",
       "    "
      ],
      "text/plain": [
       "<IPython.core.display.HTML object>"
      ]
     },
     "metadata": {},
     "output_type": "display_data"
    },
    {
     "name": "stderr",
     "output_type": "stream",
     "text": [
      "Sampling 4 chains for 2_000 tune and 500 draw iterations (8_000 + 2_000 draws total) took 97 seconds.\n"
     ]
    }
   ],
   "source": [
    "with pm.Model() as model:\n",
    "    \n",
    "    eps = pm.Normal('eps', 0, 0.025)\n",
    "    beta_vector = pm.Flat('beta', shape=(len(questions), 1))\n",
    "    noisy = test['POLVIEWS'].to_numpy() + eps\n",
    "    p = pm.math.sigmoid(tt.outer(noisy, beta_vector))\n",
    "    pm.Bernoulli('ys', p=p, observed=test[questions])\n",
    "    \n",
    "    trace = pm.sample(500, tune=2000)"
   ]
  },
  {
   "cell_type": "code",
   "execution_count": 658,
   "metadata": {},
   "outputs": [
    {
     "data": {
      "image/png": "[encoded data removed]",
      "text/plain": [
       "<Figure size 1800x1200 with 1 Axes>"
      ]
     },
     "metadata": {
      "needs_background": "light"
     },
     "output_type": "display_data"
    }
   ],
   "source": [
    "plt.figure(dpi=300)\n",
    "plt.hist(trace['eps'], ec='w', alpha=0.9)\n",
    "plt.xlabel(\"Value\")\n",
    "plt.ylabel(\"Frequency\");\n",
    "plt.savefig(\"/Users/alanjian/Desktop/Data 102/Posterior of Eps\")"
   ]
  },
  {
   "cell_type": "code",
   "execution_count": 648,
   "metadata": {},
   "outputs": [
    {
     "data": {
      "text/plain": [
       "0.97"
      ]
     },
     "execution_count": 648,
     "metadata": {},
     "output_type": "execute_result"
    }
   ],
   "source": [
    "# Concentration inequality\n",
    "np.mean(trace['eps'] >= 0)"
   ]
  },
  {
   "cell_type": "code",
   "execution_count": 788,
   "metadata": {},
   "outputs": [
    {
     "data": {
      "text/plain": [
       "0.06813629620390414"
      ]
     },
     "execution_count": 788,
     "metadata": {},
     "output_type": "execute_result"
    }
   ],
   "source": [
    "np.mean(trace['eps'])"
   ]
  },
  {
   "cell_type": "code",
   "execution_count": 636,
   "metadata": {},
   "outputs": [
    {
     "data": {
      "text/plain": [
       "(array([  5.,  24.,  98., 246., 424., 533., 381., 208.,  66.,  15.]),\n",
       " array([-0.39674304, -0.37752905, -0.35831507, -0.33910108, -0.3198871 ,\n",
       "        -0.30067311, -0.28145913, -0.26224514, -0.24303116, -0.22381717,\n",
       "        -0.20460319]),\n",
       " <BarContainer object of 10 artists>)"
      ]
     },
     "execution_count": 636,
     "metadata": {},
     "output_type": "execute_result"
    },
    {
     "data": {
      "image/png": "[encoded data removed]",
      "text/plain": [
       "<Figure size 432x288 with 1 Axes>"
      ]
     },
     "metadata": {
      "needs_background": "light"
     },
     "output_type": "display_data"
    }
   ],
   "source": [
    "#NATENVIR\n",
    "plt.figure(dpi=300)\n",
    "plt.hist(trace['beta'][:, 0], ec='w', alpha=0.9)\n",
    "plt.xlabel(\"Value\")\n",
    "plt.ylabel(\"Frequency\");\n",
    "plt.savefig(\"/Users/alanjian/Desktop/Data 102/Posterior of Eps\")"
   ]
  },
  {
   "cell_type": "code",
   "execution_count": 637,
   "metadata": {},
   "outputs": [
    {
     "data": {
      "text/plain": [
       "(array([  5.,  41., 136., 320., 457., 481., 354., 145.,  50.,  11.]),\n",
       " array([0.10736056, 0.12742431, 0.14748806, 0.16755181, 0.18761556,\n",
       "        0.20767931, 0.22774306, 0.24780681, 0.26787056, 0.28793431,\n",
       "        0.30799806]),\n",
       " <BarContainer object of 10 artists>)"
      ]
     },
     "execution_count": 637,
     "metadata": {},
     "output_type": "execute_result"
    },
    {
     "data": {
      "image/png": "[encoded data removed]",
      "text/plain": [
       "<Figure size 432x288 with 1 Axes>"
      ]
     },
     "metadata": {
      "needs_background": "light"
     },
     "output_type": "display_data"
    }
   ],
   "source": [
    "#NATARMS\n",
    "plt.figure(dpi=300)\n",
    "plt.hist(trace['beta'][:, 1], ec='w', alpha=0.9)"
   ]
  },
  {
   "cell_type": "code",
   "execution_count": 638,
   "metadata": {},
   "outputs": [
    {
     "data": {
      "text/plain": [
       "(array([ 15.,  72., 225., 456., 577., 419., 176.,  44.,  12.,   4.]),\n",
       " array([-0.43376586, -0.40957713, -0.38538841, -0.36119968, -0.33701095,\n",
       "        -0.31282222, -0.28863349, -0.26444477, -0.24025604, -0.21606731,\n",
       "        -0.19187858]),\n",
       " <BarContainer object of 10 artists>)"
      ]
     },
     "execution_count": 638,
     "metadata": {},
     "output_type": "execute_result"
    },
    {
     "data": {
      "image/png": "[encoded data removed]",
      "text/plain": [
       "<Figure size 432x288 with 1 Axes>"
      ]
     },
     "metadata": {
      "needs_background": "light"
     },
     "output_type": "display_data"
    }
   ],
   "source": [
    "#NATFARE\n",
    "plt.figure(dpi=300)\n",
    "plt.hist(trace['beta'][:, 2], ec='w', alpha=0.9)"
   ]
  },
  {
   "cell_type": "code",
   "execution_count": 639,
   "metadata": {},
   "outputs": [
    {
     "data": {
      "text/plain": [
       "(array([  9.,  50., 195., 374., 532., 488., 256.,  67.,  28.,   1.]),\n",
       " array([-0.14951508, -0.13054542, -0.11157575, -0.09260608, -0.07363642,\n",
       "        -0.05466675, -0.03569708, -0.01672741,  0.00224225,  0.02121192,\n",
       "         0.04018159]),\n",
       " <BarContainer object of 10 artists>)"
      ]
     },
     "execution_count": 639,
     "metadata": {},
     "output_type": "execute_result"
    },
    {
     "data": {
      "image/png": "[encoded data removed]",
      "text/plain": [
       "<Figure size 432x288 with 1 Axes>"
      ]
     },
     "metadata": {
      "needs_background": "light"
     },
     "output_type": "display_data"
    }
   ],
   "source": [
    "#NATSOC\n",
    "plt.figure(dpi=300)\n",
    "plt.hist(trace['beta'][:, 3], ec='w', alpha=0.9)"
   ]
  },
  {
   "cell_type": "code",
   "execution_count": 640,
   "metadata": {},
   "outputs": [
    {
     "data": {
      "text/plain": [
       "(array([ 14.,  63., 143., 330., 482., 443., 322., 148.,  48.,   7.]),\n",
       " array([-0.21006821, -0.19063603, -0.17120386, -0.15177168, -0.13233951,\n",
       "        -0.11290733, -0.09347516, -0.07404298, -0.05461081, -0.03517863,\n",
       "        -0.01574646]),\n",
       " <BarContainer object of 10 artists>)"
      ]
     },
     "execution_count": 640,
     "metadata": {},
     "output_type": "execute_result"
    },
    {
     "data": {
      "image/png": "[encoded data removed]",
      "text/plain": [
       "<Figure size 432x288 with 1 Axes>"
      ]
     },
     "metadata": {
      "needs_background": "light"
     },
     "output_type": "display_data"
    }
   ],
   "source": [
    "#GUNLAW\n",
    "plt.figure(dpi=300)\n",
    "plt.hist(trace['beta'][:, 4], ec='w', alpha=0.9)"
   ]
  },
  {
   "cell_type": "code",
   "execution_count": 641,
   "metadata": {},
   "outputs": [
    {
     "data": {
      "text/plain": [
       "(array([  3.,  22., 113., 277., 416., 517., 404., 180.,  61.,   7.]),\n",
       " array([-0.52919035, -0.51031159, -0.49143283, -0.47255407, -0.45367531,\n",
       "        -0.43479655, -0.41591779, -0.39703903, -0.37816027, -0.35928151,\n",
       "        -0.34040275]),\n",
       " <BarContainer object of 10 artists>)"
      ]
     },
     "execution_count": 641,
     "metadata": {},
     "output_type": "execute_result"
    },
    {
     "data": {
      "image/png": "[encoded data removed]",
      "text/plain": [
       "<Figure size 432x288 with 1 Axes>"
      ]
     },
     "metadata": {
      "needs_background": "light"
     },
     "output_type": "display_data"
    }
   ],
   "source": [
    "#ABANY\n",
    "plt.figure(dpi=300)\n",
    "plt.hist(trace['beta'][:, 5], ec='w', alpha=0.9)"
   ]
  },
  {
   "cell_type": "code",
   "execution_count": 642,
   "metadata": {},
   "outputs": [
    {
     "data": {
      "text/plain": [
       "(array([  7.,  56., 201., 489., 584., 427., 177.,  53.,   5.,   1.]),\n",
       " array([0.33579566, 0.35796155, 0.38012744, 0.40229333, 0.42445921,\n",
       "        0.4466251 , 0.46879099, 0.49095688, 0.51312277, 0.53528865,\n",
       "        0.55745454]),\n",
       " <BarContainer object of 10 artists>)"
      ]
     },
     "execution_count": 642,
     "metadata": {},
     "output_type": "execute_result"
    },
    {
     "data": {
      "image/png": "[encoded data removed]",
      "text/plain": [
       "<Figure size 432x288 with 1 Axes>"
      ]
     },
     "metadata": {
      "needs_background": "light"
     },
     "output_type": "display_data"
    }
   ],
   "source": [
    "#HOMOSEX (I defined it in the inverse; Do you think Homosexual relations are wrong?)\n",
    "plt.figure(dpi=300)\n",
    "plt.hist(trace['beta'][:, 6], ec='w', alpha=0.9)"
   ]
  },
  {
   "cell_type": "code",
   "execution_count": 643,
   "metadata": {},
   "outputs": [
    {
     "data": {
      "text/plain": [
       "(array([  9.,  51., 171., 406., 543., 459., 251.,  86.,  21.,   3.]),\n",
       " array([-0.35909741, -0.33899009, -0.31888278, -0.29877547, -0.27866816,\n",
       "        -0.25856084, -0.23845353, -0.21834622, -0.1982389 , -0.17813159,\n",
       "        -0.15802428]),\n",
       " <BarContainer object of 10 artists>)"
      ]
     },
     "execution_count": 643,
     "metadata": {},
     "output_type": "execute_result"
    },
    {
     "data": {
      "image/png": "[encoded data removed]",
      "text/plain": [
       "<Figure size 432x288 with 1 Axes>"
      ]
     },
     "metadata": {
      "needs_background": "light"
     },
     "output_type": "display_data"
    }
   ],
   "source": [
    "#RACDIF1\n",
    "plt.figure(dpi=300)\n",
    "plt.hist(trace['beta'][:, 7], ec='w', alpha=0.9)"
   ]
  },
  {
   "cell_type": "code",
   "execution_count": 644,
   "metadata": {},
   "outputs": [
    {
     "data": {
      "text/plain": [
       "\"#DISCAFF\\nplt.hist(trace['beta'][:, 8])\""
      ]
     },
     "execution_count": 644,
     "metadata": {},
     "output_type": "execute_result"
    }
   ],
   "source": [
    "\"\"\"#DISCAFF\n",
    "plt.hist(trace['beta'][:, 8])\"\"\""
   ]
  },
  {
   "cell_type": "code",
   "execution_count": 671,
   "metadata": {},
   "outputs": [
    {
     "data": {
      "image/png": "[encoded data removed]",
      "text/plain": [
       "<Figure size 432x288 with 1 Axes>"
      ]
     },
     "metadata": {
      "needs_background": "light"
     },
     "output_type": "display_data"
    }
   ],
   "source": [
    "plt.vlines(0, -0.5, 7.5)\n",
    "for i in np.arange(8):\n",
    "    posterior = trace['beta'][:, i]\n",
    "    pts = [np.percentile(posterior, 2.5), np.percentile(posterior, 97.5)]\n",
    "    plt.hlines(i, pts[0], pts[1], color='b')\n",
    "    plt.scatter(pts, [i, i], color='b', lw=2, marker='|')"
   ]
  },
  {
   "cell_type": "code",
   "execution_count": 781,
   "metadata": {},
   "outputs": [
    {
     "data": {
      "text/html": [
       "<div>\n",
       "<style scoped>\n",
       "    .dataframe tbody tr th:only-of-type {\n",
       "        vertical-align: middle;\n",
       "    }\n",
       "\n",
       "    .dataframe tbody tr th {\n",
       "        vertical-align: top;\n",
       "    }\n",
       "\n",
       "    .dataframe thead th {\n",
       "        text-align: right;\n",
       "    }\n",
       "</style>\n",
       "<table border=\"1\" class=\"dataframe\">\n",
       "  <thead>\n",
       "    <tr style=\"text-align: right;\">\n",
       "      <th></th>\n",
       "      <th>x</th>\n",
       "      <th>label</th>\n",
       "      <th>hue</th>\n",
       "    </tr>\n",
       "  </thead>\n",
       "  <tbody>\n",
       "    <tr>\n",
       "      <th>286</th>\n",
       "      <td>0.557455</td>\n",
       "      <td>Homosexuality</td>\n",
       "      <td>False</td>\n",
       "    </tr>\n",
       "    <tr>\n",
       "      <th>432</th>\n",
       "      <td>0.521324</td>\n",
       "      <td>Homosexuality</td>\n",
       "      <td>False</td>\n",
       "    </tr>\n",
       "    <tr>\n",
       "      <th>580</th>\n",
       "      <td>0.520051</td>\n",
       "      <td>Homosexuality</td>\n",
       "      <td>False</td>\n",
       "    </tr>\n",
       "    <tr>\n",
       "      <th>771</th>\n",
       "      <td>0.519373</td>\n",
       "      <td>Homosexuality</td>\n",
       "      <td>False</td>\n",
       "    </tr>\n",
       "    <tr>\n",
       "      <th>485</th>\n",
       "      <td>0.516107</td>\n",
       "      <td>Homosexuality</td>\n",
       "      <td>False</td>\n",
       "    </tr>\n",
       "    <tr>\n",
       "      <th>...</th>\n",
       "      <td>...</td>\n",
       "      <td>...</td>\n",
       "      <td>...</td>\n",
       "    </tr>\n",
       "    <tr>\n",
       "      <th>451</th>\n",
       "      <td>-0.506627</td>\n",
       "      <td>Abortion</td>\n",
       "      <td>True</td>\n",
       "    </tr>\n",
       "    <tr>\n",
       "      <th>1630</th>\n",
       "      <td>-0.509734</td>\n",
       "      <td>Abortion</td>\n",
       "      <td>True</td>\n",
       "    </tr>\n",
       "    <tr>\n",
       "      <th>1612</th>\n",
       "      <td>-0.510869</td>\n",
       "      <td>Abortion</td>\n",
       "      <td>True</td>\n",
       "    </tr>\n",
       "    <tr>\n",
       "      <th>151</th>\n",
       "      <td>-0.514576</td>\n",
       "      <td>Abortion</td>\n",
       "      <td>True</td>\n",
       "    </tr>\n",
       "    <tr>\n",
       "      <th>778</th>\n",
       "      <td>-0.529190</td>\n",
       "      <td>Abortion</td>\n",
       "      <td>True</td>\n",
       "    </tr>\n",
       "  </tbody>\n",
       "</table>\n",
       "<p>16000 rows × 3 columns</p>\n",
       "</div>"
      ],
      "text/plain": [
       "             x          label    hue\n",
       "286   0.557455  Homosexuality  False\n",
       "432   0.521324  Homosexuality  False\n",
       "580   0.520051  Homosexuality  False\n",
       "771   0.519373  Homosexuality  False\n",
       "485   0.516107  Homosexuality  False\n",
       "...        ...            ...    ...\n",
       "451  -0.506627       Abortion   True\n",
       "1630 -0.509734       Abortion   True\n",
       "1612 -0.510869       Abortion   True\n",
       "151  -0.514576       Abortion   True\n",
       "778  -0.529190       Abortion   True\n",
       "\n",
       "[16000 rows x 3 columns]"
      ]
     },
     "execution_count": 781,
     "metadata": {},
     "output_type": "execute_result"
    }
   ],
   "source": [
    "[trace['beta'][:, i] for i in np.arange(8)]\n",
    "labels = ['Environment', \"Nat'l Security\", 'Welfare', 'Social Security', 'Gun Regulation', 'Abortion', 'Homosexuality', 'Race Discrimination']\n",
    "idea = pd.DataFrame(columns=['x', 'label'])\n",
    "i = 0\n",
    "while i < len(labels):\n",
    "    df = pd.DataFrame(trace['beta'][:, i].flatten()).rename({0:'x'}, axis=1)\n",
    "    df['label'] = labels[i]\n",
    "    idea = idea.append(df)\n",
    "    i += 1 \n",
    "idea['hue'] = idea['x'] < 0\n",
    "idea = idea.sort_values('x', ascending=False)\n",
    "idea"
   ]
  },
  {
   "cell_type": "code",
   "execution_count": 787,
   "metadata": {},
   "outputs": [
    {
     "data": {
      "text/plain": [
       "<Figure size 1800x1200 with 0 Axes>"
      ]
     },
     "metadata": {},
     "output_type": "display_data"
    },
    {
     "data": {
      "image/png": "[encoded data removed]",
      "text/plain": [
       "<Figure size 810x432 with 8 Axes>"
      ]
     },
     "metadata": {},
     "output_type": "display_data"
    }
   ],
   "source": [
    "import seaborn as sns\n",
    "sns.set_theme(style=\"white\", rc={\"axes.facecolor\": (0, 0, 0, 0)})\n",
    "\n",
    "plt.figure(dpi=300)\n",
    "# Initialize the FacetGrid object\n",
    "pal = sns.cubehelix_palette(10, rot=-.25, light=.7)\n",
    "g = sns.FacetGrid(idea, row=\"label\", hue=\"label\", aspect=15, height=.75, palette='RdBu')\n",
    "\n",
    "# Draw the densities in a few steps\n",
    "g.map(sns.kdeplot, 'x',\n",
    "      bw_adjust=.5, clip_on=False,\n",
    "      fill=True, alpha=1, linewidth=1.5)\n",
    "g.map(sns.kdeplot, 'x', clip_on=False, color=\"w\", lw=2, bw_adjust=.5)\n",
    "\n",
    "# passing color=None to refline() uses the hue mapping\n",
    "g.refline(y=0, linewidth=2, linestyle=\"-\", color=None, clip_on=False)\n",
    "\n",
    "\n",
    "# Define and use a simple function to label the plot in axes coordinates\n",
    "def label(x, color, label):\n",
    "    ax = plt.gca()\n",
    "    ax.text(0, .2, label, fontweight=\"bold\", color=color,\n",
    "            ha=\"left\", va=\"center\", transform=ax.transAxes)\n",
    "\n",
    "\n",
    "g.map(label, 'x')\n",
    "\n",
    "# Set the subplots to overlap\n",
    "g.figure.subplots_adjust(hspace=-.5)\n",
    "\n",
    "# Remove axes details that don't play well with overlap\n",
    "g.set_titles(\"\")\n",
    "g.set(yticks=[], ylabel=\"\")\n",
    "g.despine(bottom=True, left=True);\n",
    "#plt.savefig(\"/Users/alanjian/Desktop/Data 102/Beta Posteriors\")"
   ]
  },
  {
   "cell_type": "code",
   "execution_count": null,
   "metadata": {},
   "outputs": [],
   "source": []
  }
 ],
 "metadata": {
  "kernelspec": {
   "display_name": "Python 3 (ipykernel)",
   "language": "python",
   "name": "python3"
  },
  "language_info": {
   "codemirror_mode": {
    "name": "ipython",
    "version": 3
   },
   "file_extension": ".py",
   "mimetype": "text/x-python",
   "name": "python",
   "nbconvert_exporter": "python",
   "pygments_lexer": "ipython3",
   "version": "3.9.7"
  }
 },
 "nbformat": 4,
 "nbformat_minor": 2
}
